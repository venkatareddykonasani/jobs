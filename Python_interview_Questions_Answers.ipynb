{
  "nbformat": 4,
  "nbformat_minor": 0,
  "metadata": {
    "colab": {
      "provenance": [],
      "authorship_tag": "ABX9TyN4cNZ1oY+C65IGAZshShVy",
      "include_colab_link": true
    },
    "kernelspec": {
      "name": "python3",
      "display_name": "Python 3"
    },
    "language_info": {
      "name": "python"
    }
  },
  "cells": [
    {
      "cell_type": "markdown",
      "metadata": {
        "id": "view-in-github",
        "colab_type": "text"
      },
      "source": [
        "<a href=\"https://colab.research.google.com/github/venkatareddykonasani/jobs/blob/main/Python_interview_Questions_Answers.ipynb\" target=\"_parent\"><img src=\"https://colab.research.google.com/assets/colab-badge.svg\" alt=\"Open In Colab\"/></a>"
      ]
    },
    {
      "cell_type": "markdown",
      "source": [
        "### 1.Difference Between List, Tuple, Dictionary, Set, and Array"
      ],
      "metadata": {
        "id": "im80Eoh_LiY0"
      }
    },
    {
      "cell_type": "markdown",
      "source": [
        "\n",
        "- **List:** Ordered, mutable collection of items. Allows duplicate elements.\n",
        "- **Tuple:** Ordered, immutable collection of items. Allows duplicate elements.\n",
        "\n",
        "- **Dictionary:** Unordered collection of key-value pairs. Keys must be unique.\n",
        "- **Set:** Unordered collection of unique elements.\n",
        "- **Array:** Ordered, mutable collection of items. More efficient for numerical operations.\n"
      ],
      "metadata": {
        "id": "_b8RrxJuflWQ"
      }
    },
    {
      "cell_type": "code",
      "source": [
        "#List is mutable\n",
        "my_list1 = [1, 2, 3, 4, 5]\n",
        "my_list1[0] = 10\n",
        "my_list1"
      ],
      "metadata": {
        "colab": {
          "base_uri": "https://localhost:8080/"
        },
        "id": "2H7GR_dQLmVE",
        "outputId": "7ee7d2e5-74bc-4f05-87c6-9a81033f3480"
      },
      "execution_count": null,
      "outputs": [
        {
          "output_type": "execute_result",
          "data": {
            "text/plain": [
              "[10, 2, 3, 4, 5]"
            ]
          },
          "metadata": {},
          "execution_count": 26
        }
      ]
    },
    {
      "cell_type": "code",
      "source": [
        "#Tuple is not mutable\n",
        "my_tuple1 = (1, 2, 3, 4, 5)\n",
        "my_tuple1[0] = 10\n",
        "my_tuple1"
      ],
      "metadata": {
        "colab": {
          "base_uri": "https://localhost:8080/",
          "height": 193
        },
        "id": "15FKNHPpN7-s",
        "outputId": "3203e75f-c64c-40a1-d431-ed1a0a4066c8"
      },
      "execution_count": null,
      "outputs": [
        {
          "output_type": "error",
          "ename": "TypeError",
          "evalue": "'tuple' object does not support item assignment",
          "traceback": [
            "\u001b[0;31m---------------------------------------------------------------------------\u001b[0m",
            "\u001b[0;31mTypeError\u001b[0m                                 Traceback (most recent call last)",
            "\u001b[0;32m<ipython-input-27-e5b43409aa64>\u001b[0m in \u001b[0;36m<cell line: 3>\u001b[0;34m()\u001b[0m\n\u001b[1;32m      1\u001b[0m \u001b[0;31m#Tuple is not mutable\u001b[0m\u001b[0;34m\u001b[0m\u001b[0;34m\u001b[0m\u001b[0m\n\u001b[1;32m      2\u001b[0m \u001b[0mmy_tuple1\u001b[0m \u001b[0;34m=\u001b[0m \u001b[0;34m(\u001b[0m\u001b[0;36m1\u001b[0m\u001b[0;34m,\u001b[0m \u001b[0;36m2\u001b[0m\u001b[0;34m,\u001b[0m \u001b[0;36m3\u001b[0m\u001b[0;34m,\u001b[0m \u001b[0;36m4\u001b[0m\u001b[0;34m,\u001b[0m \u001b[0;36m5\u001b[0m\u001b[0;34m)\u001b[0m\u001b[0;34m\u001b[0m\u001b[0;34m\u001b[0m\u001b[0m\n\u001b[0;32m----> 3\u001b[0;31m \u001b[0mmy_tuple1\u001b[0m\u001b[0;34m[\u001b[0m\u001b[0;36m0\u001b[0m\u001b[0;34m]\u001b[0m \u001b[0;34m=\u001b[0m \u001b[0;36m10\u001b[0m\u001b[0;34m\u001b[0m\u001b[0;34m\u001b[0m\u001b[0m\n\u001b[0m\u001b[1;32m      4\u001b[0m \u001b[0mmy_tuple1\u001b[0m\u001b[0;34m\u001b[0m\u001b[0;34m\u001b[0m\u001b[0m\n",
            "\u001b[0;31mTypeError\u001b[0m: 'tuple' object does not support item assignment"
          ]
        }
      ]
    },
    {
      "cell_type": "code",
      "source": [
        "#Dictionary is key value pairs\n",
        "sample_dict = { \"name\": \"John\", \"age\": 30, \"city\": \"New York\"}\n",
        "print(sample_dict[\"name\"])\n",
        "\n",
        "#This doesn't work\n",
        "print(sample_dict[0])"
      ],
      "metadata": {
        "colab": {
          "base_uri": "https://localhost:8080/",
          "height": 193
        },
        "id": "YovmVS92OjkF",
        "outputId": "08bd182d-876b-49b3-aa6a-63da94a4fbc5"
      },
      "execution_count": null,
      "outputs": [
        {
          "output_type": "stream",
          "name": "stdout",
          "text": [
            "John\n"
          ]
        },
        {
          "output_type": "error",
          "ename": "KeyError",
          "evalue": "0",
          "traceback": [
            "\u001b[0;31m---------------------------------------------------------------------------\u001b[0m",
            "\u001b[0;31mKeyError\u001b[0m                                  Traceback (most recent call last)",
            "\u001b[0;32m<ipython-input-28-a34c6a8695e4>\u001b[0m in \u001b[0;36m<cell line: 6>\u001b[0;34m()\u001b[0m\n\u001b[1;32m      4\u001b[0m \u001b[0;34m\u001b[0m\u001b[0m\n\u001b[1;32m      5\u001b[0m \u001b[0;31m#This doesn't work\u001b[0m\u001b[0;34m\u001b[0m\u001b[0;34m\u001b[0m\u001b[0m\n\u001b[0;32m----> 6\u001b[0;31m \u001b[0mprint\u001b[0m\u001b[0;34m(\u001b[0m\u001b[0msample_dict\u001b[0m\u001b[0;34m[\u001b[0m\u001b[0;36m0\u001b[0m\u001b[0;34m]\u001b[0m\u001b[0;34m)\u001b[0m\u001b[0;34m\u001b[0m\u001b[0;34m\u001b[0m\u001b[0m\n\u001b[0m",
            "\u001b[0;31mKeyError\u001b[0m: 0"
          ]
        }
      ]
    },
    {
      "cell_type": "code",
      "source": [
        "#set has no order\n",
        "my_set = {1, 2, 3, 4, 5}\n",
        "my_set[0]"
      ],
      "metadata": {
        "colab": {
          "base_uri": "https://localhost:8080/",
          "height": 176
        },
        "id": "A-f2Ut5HWIoc",
        "outputId": "570b4320-1fb3-436e-a546-fc14d3230a93"
      },
      "execution_count": null,
      "outputs": [
        {
          "output_type": "error",
          "ename": "TypeError",
          "evalue": "'set' object is not subscriptable",
          "traceback": [
            "\u001b[0;31m---------------------------------------------------------------------------\u001b[0m",
            "\u001b[0;31mTypeError\u001b[0m                                 Traceback (most recent call last)",
            "\u001b[0;32m<ipython-input-29-9a3e9de46b94>\u001b[0m in \u001b[0;36m<cell line: 3>\u001b[0;34m()\u001b[0m\n\u001b[1;32m      1\u001b[0m \u001b[0;31m#set has no order\u001b[0m\u001b[0;34m\u001b[0m\u001b[0;34m\u001b[0m\u001b[0m\n\u001b[1;32m      2\u001b[0m \u001b[0mmy_set\u001b[0m \u001b[0;34m=\u001b[0m \u001b[0;34m{\u001b[0m\u001b[0;36m1\u001b[0m\u001b[0;34m,\u001b[0m \u001b[0;36m2\u001b[0m\u001b[0;34m,\u001b[0m \u001b[0;36m3\u001b[0m\u001b[0;34m,\u001b[0m \u001b[0;36m4\u001b[0m\u001b[0;34m,\u001b[0m \u001b[0;36m5\u001b[0m\u001b[0;34m}\u001b[0m\u001b[0;34m\u001b[0m\u001b[0;34m\u001b[0m\u001b[0m\n\u001b[0;32m----> 3\u001b[0;31m \u001b[0mmy_set\u001b[0m\u001b[0;34m[\u001b[0m\u001b[0;36m0\u001b[0m\u001b[0;34m]\u001b[0m\u001b[0;34m\u001b[0m\u001b[0;34m\u001b[0m\u001b[0m\n\u001b[0m",
            "\u001b[0;31mTypeError\u001b[0m: 'set' object is not subscriptable"
          ]
        }
      ]
    },
    {
      "cell_type": "code",
      "source": [
        "#Arrays are used for numerical compuations\n",
        "my_list1 = [1, 2, 3, 4, 5]\n",
        "#Doesn't work well\n",
        "print(\"my_list1*2\", my_list1*2)\n",
        "\n",
        "#Arrays are used for numerical compuations\n",
        "import numpy as np\n",
        "my_array = np.array([1, 2, 3, 4, 5])\n",
        "#Doesn't work\n",
        "print(\"my_array*2\", my_array*2)"
      ],
      "metadata": {
        "colab": {
          "base_uri": "https://localhost:8080/"
        },
        "id": "ztmTVEEgWMbE",
        "outputId": "3e395c84-107c-4788-f850-fbf94801cedc"
      },
      "execution_count": null,
      "outputs": [
        {
          "output_type": "stream",
          "name": "stdout",
          "text": [
            "my_list1*2 [1, 2, 3, 4, 5, 1, 2, 3, 4, 5]\n",
            "my_array*2 [ 2  4  6  8 10]\n"
          ]
        }
      ]
    },
    {
      "cell_type": "markdown",
      "source": [
        "\n",
        "### 2 How to Read Excel/CSV in Pandas. How do you read a particular sheet from an excel file\n",
        "\n",
        "\n"
      ],
      "metadata": {
        "id": "7lxPEUnUMNAn"
      }
    },
    {
      "cell_type": "markdown",
      "source": [
        "**Reading Excel:**\n",
        "```python\n",
        "import pandas as pd\n",
        "df_excel = pd.read_excel('file.xlsx')\n",
        "```\n",
        "\n",
        "**Reading CSV:**\n",
        "```python\n",
        "df_csv = pd.read_csv('file.csv')\n",
        "```"
      ],
      "metadata": {
        "id": "ftDOBrDIfpjv"
      }
    },
    {
      "cell_type": "code",
      "source": [
        "#World Bank Data/World Bank Indicators.xlsx\n",
        "!wget https://raw.githubusercontent.com/venkatareddykonasani/Datasets/master/World%20Bank%20Data/World%20Bank%20Indicators.xlsx"
      ],
      "metadata": {
        "colab": {
          "base_uri": "https://localhost:8080/"
        },
        "id": "WHIH9fu8fxnj",
        "outputId": "524f8152-10ce-4e76-e752-7f7e3011c7f9"
      },
      "execution_count": null,
      "outputs": [
        {
          "output_type": "stream",
          "name": "stdout",
          "text": [
            "--2024-07-07 09:21:45--  https://raw.githubusercontent.com/venkatareddykonasani/Datasets/master/World%20Bank%20Data/World%20Bank%20Indicators.xlsx\n",
            "Resolving raw.githubusercontent.com (raw.githubusercontent.com)... 185.199.110.133, 185.199.109.133, 185.199.108.133, ...\n",
            "Connecting to raw.githubusercontent.com (raw.githubusercontent.com)|185.199.110.133|:443... connected.\n",
            "HTTP request sent, awaiting response... 200 OK\n",
            "Length: 275802 (269K) [application/octet-stream]\n",
            "Saving to: ‘World Bank Indicators.xlsx’\n",
            "\n",
            "\r          World Ban   0%[                    ]       0  --.-KB/s               \rWorld Bank Indicato 100%[===================>] 269.34K  --.-KB/s    in 0.02s   \n",
            "\n",
            "2024-07-07 09:21:46 (10.9 MB/s) - ‘World Bank Indicators.xlsx’ saved [275802/275802]\n",
            "\n"
          ]
        }
      ]
    },
    {
      "cell_type": "code",
      "source": [
        "#Sheet name = Regions and subregions\n",
        "\n",
        "import pandas as pd\n",
        "df = pd.read_excel('/content/World Bank Indicators.xlsx', sheet_name='Regions and subregions')\n",
        "print(df.shape)\n",
        "\n",
        "#Gets sheet-1 by Default\n",
        "df = pd.read_excel('/content/World Bank Indicators.xlsx')\n",
        "print(df.shape)"
      ],
      "metadata": {
        "colab": {
          "base_uri": "https://localhost:8080/"
        },
        "id": "E3wdV97Mh0p_",
        "outputId": "353b01ce-a588-41d2-d323-a41de94c0eb1"
      },
      "execution_count": null,
      "outputs": [
        {
          "output_type": "stream",
          "name": "stdout",
          "text": [
            "(234, 3)\n",
            "(2354, 20)\n"
          ]
        }
      ]
    },
    {
      "cell_type": "markdown",
      "source": [
        "\n",
        "### 3 During Importing I Need Only 100 Rows, What Function Will We Use\n"
      ],
      "metadata": {
        "id": "FYayX9Q4MSDc"
      }
    },
    {
      "cell_type": "code",
      "source": [
        "!wget https://raw.githubusercontent.com/venkatareddykonasani/Datasets/master/Car_Dekho/car%20data.csv\n",
        "import pandas as pd\n",
        "df = pd.read_csv('/content/car data.csv', nrows=100)\n",
        "print(df.info())"
      ],
      "metadata": {
        "colab": {
          "base_uri": "https://localhost:8080/"
        },
        "id": "GavGGaJ_d8ov",
        "outputId": "995858d4-cc09-4b66-bf63-0b10aa9a029a"
      },
      "execution_count": null,
      "outputs": [
        {
          "output_type": "stream",
          "name": "stdout",
          "text": [
            "--2024-07-07 09:35:09--  https://raw.githubusercontent.com/venkatareddykonasani/Datasets/master/Car_Dekho/car%20data.csv\n",
            "Resolving raw.githubusercontent.com (raw.githubusercontent.com)... 185.199.110.133, 185.199.111.133, 185.199.108.133, ...\n",
            "Connecting to raw.githubusercontent.com (raw.githubusercontent.com)|185.199.110.133|:443... connected.\n",
            "HTTP request sent, awaiting response... 200 OK\n",
            "Length: 17209 (17K) [text/plain]\n",
            "Saving to: ‘car data.csv.6’\n",
            "\n",
            "\rcar data.csv.6        0%[                    ]       0  --.-KB/s               \rcar data.csv.6      100%[===================>]  16.81K  --.-KB/s    in 0.001s  \n",
            "\n",
            "2024-07-07 09:35:09 (27.5 MB/s) - ‘car data.csv.6’ saved [17209/17209]\n",
            "\n",
            "<class 'pandas.core.frame.DataFrame'>\n",
            "RangeIndex: 100 entries, 0 to 99\n",
            "Data columns (total 9 columns):\n",
            " #   Column         Non-Null Count  Dtype  \n",
            "---  ------         --------------  -----  \n",
            " 0   Car_Name       100 non-null    object \n",
            " 1   Year           100 non-null    int64  \n",
            " 2   Selling_Price  100 non-null    float64\n",
            " 3   Present_Price  100 non-null    float64\n",
            " 4   Kms_Driven     100 non-null    int64  \n",
            " 5   Fuel_Type      100 non-null    object \n",
            " 6   Seller_Type    100 non-null    object \n",
            " 7   Transmission   100 non-null    object \n",
            " 8   Owner          100 non-null    int64  \n",
            "dtypes: float64(2), int64(3), object(4)\n",
            "memory usage: 7.2+ KB\n",
            "None\n"
          ]
        }
      ]
    },
    {
      "cell_type": "markdown",
      "source": [
        "\n",
        "### 4 What is `usecols` in Pandas\n"
      ],
      "metadata": {
        "id": "gCGOt5qCMWQE"
      }
    },
    {
      "cell_type": "markdown",
      "source": [
        "`usecols` is used to specify which columns to read from the file.\n",
        "\n",
        "```python\n",
        "df = pd.read_csv('file.csv', usecols=['column1', 'column2', 'column3'])\n",
        "```"
      ],
      "metadata": {
        "id": "HvC24C8Ufhmv"
      }
    },
    {
      "cell_type": "code",
      "source": [
        "df=pd.read_csv('/content/car data.csv', usecols=['Car_Name', 'Selling_Price'])\n",
        "df.head()"
      ],
      "metadata": {
        "colab": {
          "base_uri": "https://localhost:8080/",
          "height": 206
        },
        "id": "GHUamqCcMoWe",
        "outputId": "1e8745ab-2b16-479a-ad63-4e632b8123fc"
      },
      "execution_count": null,
      "outputs": [
        {
          "output_type": "execute_result",
          "data": {
            "text/plain": [
              "  Car_Name  Selling_Price\n",
              "0     ritz           3.35\n",
              "1      sx4           4.75\n",
              "2     ciaz           7.25\n",
              "3  wagon r           2.85\n",
              "4    swift           4.60"
            ],
            "text/html": [
              "\n",
              "  <div id=\"df-dab372db-487f-4feb-93b8-fd71ed1ecc70\" class=\"colab-df-container\">\n",
              "    <div>\n",
              "<style scoped>\n",
              "    .dataframe tbody tr th:only-of-type {\n",
              "        vertical-align: middle;\n",
              "    }\n",
              "\n",
              "    .dataframe tbody tr th {\n",
              "        vertical-align: top;\n",
              "    }\n",
              "\n",
              "    .dataframe thead th {\n",
              "        text-align: right;\n",
              "    }\n",
              "</style>\n",
              "<table border=\"1\" class=\"dataframe\">\n",
              "  <thead>\n",
              "    <tr style=\"text-align: right;\">\n",
              "      <th></th>\n",
              "      <th>Car_Name</th>\n",
              "      <th>Selling_Price</th>\n",
              "    </tr>\n",
              "  </thead>\n",
              "  <tbody>\n",
              "    <tr>\n",
              "      <th>0</th>\n",
              "      <td>ritz</td>\n",
              "      <td>3.35</td>\n",
              "    </tr>\n",
              "    <tr>\n",
              "      <th>1</th>\n",
              "      <td>sx4</td>\n",
              "      <td>4.75</td>\n",
              "    </tr>\n",
              "    <tr>\n",
              "      <th>2</th>\n",
              "      <td>ciaz</td>\n",
              "      <td>7.25</td>\n",
              "    </tr>\n",
              "    <tr>\n",
              "      <th>3</th>\n",
              "      <td>wagon r</td>\n",
              "      <td>2.85</td>\n",
              "    </tr>\n",
              "    <tr>\n",
              "      <th>4</th>\n",
              "      <td>swift</td>\n",
              "      <td>4.60</td>\n",
              "    </tr>\n",
              "  </tbody>\n",
              "</table>\n",
              "</div>\n",
              "    <div class=\"colab-df-buttons\">\n",
              "\n",
              "  <div class=\"colab-df-container\">\n",
              "    <button class=\"colab-df-convert\" onclick=\"convertToInteractive('df-dab372db-487f-4feb-93b8-fd71ed1ecc70')\"\n",
              "            title=\"Convert this dataframe to an interactive table.\"\n",
              "            style=\"display:none;\">\n",
              "\n",
              "  <svg xmlns=\"http://www.w3.org/2000/svg\" height=\"24px\" viewBox=\"0 -960 960 960\">\n",
              "    <path d=\"M120-120v-720h720v720H120Zm60-500h600v-160H180v160Zm220 220h160v-160H400v160Zm0 220h160v-160H400v160ZM180-400h160v-160H180v160Zm440 0h160v-160H620v160ZM180-180h160v-160H180v160Zm440 0h160v-160H620v160Z\"/>\n",
              "  </svg>\n",
              "    </button>\n",
              "\n",
              "  <style>\n",
              "    .colab-df-container {\n",
              "      display:flex;\n",
              "      gap: 12px;\n",
              "    }\n",
              "\n",
              "    .colab-df-convert {\n",
              "      background-color: #E8F0FE;\n",
              "      border: none;\n",
              "      border-radius: 50%;\n",
              "      cursor: pointer;\n",
              "      display: none;\n",
              "      fill: #1967D2;\n",
              "      height: 32px;\n",
              "      padding: 0 0 0 0;\n",
              "      width: 32px;\n",
              "    }\n",
              "\n",
              "    .colab-df-convert:hover {\n",
              "      background-color: #E2EBFA;\n",
              "      box-shadow: 0px 1px 2px rgba(60, 64, 67, 0.3), 0px 1px 3px 1px rgba(60, 64, 67, 0.15);\n",
              "      fill: #174EA6;\n",
              "    }\n",
              "\n",
              "    .colab-df-buttons div {\n",
              "      margin-bottom: 4px;\n",
              "    }\n",
              "\n",
              "    [theme=dark] .colab-df-convert {\n",
              "      background-color: #3B4455;\n",
              "      fill: #D2E3FC;\n",
              "    }\n",
              "\n",
              "    [theme=dark] .colab-df-convert:hover {\n",
              "      background-color: #434B5C;\n",
              "      box-shadow: 0px 1px 3px 1px rgba(0, 0, 0, 0.15);\n",
              "      filter: drop-shadow(0px 1px 2px rgba(0, 0, 0, 0.3));\n",
              "      fill: #FFFFFF;\n",
              "    }\n",
              "  </style>\n",
              "\n",
              "    <script>\n",
              "      const buttonEl =\n",
              "        document.querySelector('#df-dab372db-487f-4feb-93b8-fd71ed1ecc70 button.colab-df-convert');\n",
              "      buttonEl.style.display =\n",
              "        google.colab.kernel.accessAllowed ? 'block' : 'none';\n",
              "\n",
              "      async function convertToInteractive(key) {\n",
              "        const element = document.querySelector('#df-dab372db-487f-4feb-93b8-fd71ed1ecc70');\n",
              "        const dataTable =\n",
              "          await google.colab.kernel.invokeFunction('convertToInteractive',\n",
              "                                                    [key], {});\n",
              "        if (!dataTable) return;\n",
              "\n",
              "        const docLinkHtml = 'Like what you see? Visit the ' +\n",
              "          '<a target=\"_blank\" href=https://colab.research.google.com/notebooks/data_table.ipynb>data table notebook</a>'\n",
              "          + ' to learn more about interactive tables.';\n",
              "        element.innerHTML = '';\n",
              "        dataTable['output_type'] = 'display_data';\n",
              "        await google.colab.output.renderOutput(dataTable, element);\n",
              "        const docLink = document.createElement('div');\n",
              "        docLink.innerHTML = docLinkHtml;\n",
              "        element.appendChild(docLink);\n",
              "      }\n",
              "    </script>\n",
              "  </div>\n",
              "\n",
              "\n",
              "<div id=\"df-b6e50f3a-5658-4116-a02d-edd2dc2bab3c\">\n",
              "  <button class=\"colab-df-quickchart\" onclick=\"quickchart('df-b6e50f3a-5658-4116-a02d-edd2dc2bab3c')\"\n",
              "            title=\"Suggest charts\"\n",
              "            style=\"display:none;\">\n",
              "\n",
              "<svg xmlns=\"http://www.w3.org/2000/svg\" height=\"24px\"viewBox=\"0 0 24 24\"\n",
              "     width=\"24px\">\n",
              "    <g>\n",
              "        <path d=\"M19 3H5c-1.1 0-2 .9-2 2v14c0 1.1.9 2 2 2h14c1.1 0 2-.9 2-2V5c0-1.1-.9-2-2-2zM9 17H7v-7h2v7zm4 0h-2V7h2v10zm4 0h-2v-4h2v4z\"/>\n",
              "    </g>\n",
              "</svg>\n",
              "  </button>\n",
              "\n",
              "<style>\n",
              "  .colab-df-quickchart {\n",
              "      --bg-color: #E8F0FE;\n",
              "      --fill-color: #1967D2;\n",
              "      --hover-bg-color: #E2EBFA;\n",
              "      --hover-fill-color: #174EA6;\n",
              "      --disabled-fill-color: #AAA;\n",
              "      --disabled-bg-color: #DDD;\n",
              "  }\n",
              "\n",
              "  [theme=dark] .colab-df-quickchart {\n",
              "      --bg-color: #3B4455;\n",
              "      --fill-color: #D2E3FC;\n",
              "      --hover-bg-color: #434B5C;\n",
              "      --hover-fill-color: #FFFFFF;\n",
              "      --disabled-bg-color: #3B4455;\n",
              "      --disabled-fill-color: #666;\n",
              "  }\n",
              "\n",
              "  .colab-df-quickchart {\n",
              "    background-color: var(--bg-color);\n",
              "    border: none;\n",
              "    border-radius: 50%;\n",
              "    cursor: pointer;\n",
              "    display: none;\n",
              "    fill: var(--fill-color);\n",
              "    height: 32px;\n",
              "    padding: 0;\n",
              "    width: 32px;\n",
              "  }\n",
              "\n",
              "  .colab-df-quickchart:hover {\n",
              "    background-color: var(--hover-bg-color);\n",
              "    box-shadow: 0 1px 2px rgba(60, 64, 67, 0.3), 0 1px 3px 1px rgba(60, 64, 67, 0.15);\n",
              "    fill: var(--button-hover-fill-color);\n",
              "  }\n",
              "\n",
              "  .colab-df-quickchart-complete:disabled,\n",
              "  .colab-df-quickchart-complete:disabled:hover {\n",
              "    background-color: var(--disabled-bg-color);\n",
              "    fill: var(--disabled-fill-color);\n",
              "    box-shadow: none;\n",
              "  }\n",
              "\n",
              "  .colab-df-spinner {\n",
              "    border: 2px solid var(--fill-color);\n",
              "    border-color: transparent;\n",
              "    border-bottom-color: var(--fill-color);\n",
              "    animation:\n",
              "      spin 1s steps(1) infinite;\n",
              "  }\n",
              "\n",
              "  @keyframes spin {\n",
              "    0% {\n",
              "      border-color: transparent;\n",
              "      border-bottom-color: var(--fill-color);\n",
              "      border-left-color: var(--fill-color);\n",
              "    }\n",
              "    20% {\n",
              "      border-color: transparent;\n",
              "      border-left-color: var(--fill-color);\n",
              "      border-top-color: var(--fill-color);\n",
              "    }\n",
              "    30% {\n",
              "      border-color: transparent;\n",
              "      border-left-color: var(--fill-color);\n",
              "      border-top-color: var(--fill-color);\n",
              "      border-right-color: var(--fill-color);\n",
              "    }\n",
              "    40% {\n",
              "      border-color: transparent;\n",
              "      border-right-color: var(--fill-color);\n",
              "      border-top-color: var(--fill-color);\n",
              "    }\n",
              "    60% {\n",
              "      border-color: transparent;\n",
              "      border-right-color: var(--fill-color);\n",
              "    }\n",
              "    80% {\n",
              "      border-color: transparent;\n",
              "      border-right-color: var(--fill-color);\n",
              "      border-bottom-color: var(--fill-color);\n",
              "    }\n",
              "    90% {\n",
              "      border-color: transparent;\n",
              "      border-bottom-color: var(--fill-color);\n",
              "    }\n",
              "  }\n",
              "</style>\n",
              "\n",
              "  <script>\n",
              "    async function quickchart(key) {\n",
              "      const quickchartButtonEl =\n",
              "        document.querySelector('#' + key + ' button');\n",
              "      quickchartButtonEl.disabled = true;  // To prevent multiple clicks.\n",
              "      quickchartButtonEl.classList.add('colab-df-spinner');\n",
              "      try {\n",
              "        const charts = await google.colab.kernel.invokeFunction(\n",
              "            'suggestCharts', [key], {});\n",
              "      } catch (error) {\n",
              "        console.error('Error during call to suggestCharts:', error);\n",
              "      }\n",
              "      quickchartButtonEl.classList.remove('colab-df-spinner');\n",
              "      quickchartButtonEl.classList.add('colab-df-quickchart-complete');\n",
              "    }\n",
              "    (() => {\n",
              "      let quickchartButtonEl =\n",
              "        document.querySelector('#df-b6e50f3a-5658-4116-a02d-edd2dc2bab3c button');\n",
              "      quickchartButtonEl.style.display =\n",
              "        google.colab.kernel.accessAllowed ? 'block' : 'none';\n",
              "    })();\n",
              "  </script>\n",
              "</div>\n",
              "\n",
              "    </div>\n",
              "  </div>\n"
            ],
            "application/vnd.google.colaboratory.intrinsic+json": {
              "type": "dataframe",
              "variable_name": "df",
              "summary": "{\n  \"name\": \"df\",\n  \"rows\": 301,\n  \"fields\": [\n    {\n      \"column\": \"Car_Name\",\n      \"properties\": {\n        \"dtype\": \"category\",\n        \"num_unique_values\": 98,\n        \"samples\": [\n          \"Hero Passion Pro\",\n          \"Honda CB Hornet 160R\",\n          \"city\"\n        ],\n        \"semantic_type\": \"\",\n        \"description\": \"\"\n      }\n    },\n    {\n      \"column\": \"Selling_Price\",\n      \"properties\": {\n        \"dtype\": \"number\",\n        \"std\": 5.082811556177803,\n        \"min\": 0.1,\n        \"max\": 35.0,\n        \"num_unique_values\": 156,\n        \"samples\": [\n          0.4,\n          7.05,\n          0.9\n        ],\n        \"semantic_type\": \"\",\n        \"description\": \"\"\n      }\n    }\n  ]\n}"
            }
          },
          "metadata": {},
          "execution_count": 46
        }
      ]
    },
    {
      "cell_type": "markdown",
      "source": [
        "\n",
        "### 5 Types of Data Structure in Pandas and Python"
      ],
      "metadata": {
        "id": "UDYSo-pdMaaj"
      }
    },
    {
      "cell_type": "markdown",
      "source": [
        "- **Pandas:**\n",
        "  - Series: One-dimensional labeled array.\n",
        "  - DataFrame: Two-dimensional labeled data structure.\n",
        "\n",
        "- **Python:**\n",
        "  - List\n",
        "  - Tuple\n",
        "  - Dictionary\n",
        "  - Set\n",
        "  - Array"
      ],
      "metadata": {
        "id": "zycaWQE7jNIQ"
      }
    },
    {
      "cell_type": "markdown",
      "source": [
        "### 6 Why We Use Lambda Function?\n"
      ],
      "metadata": {
        "id": "QMuC5fjEMdNG"
      }
    },
    {
      "cell_type": "markdown",
      "source": [
        "\n",
        "Lambda functions are small anonymous functions defined using the `lambda` keyword. They are used for creating small, one-time, and inline function objects.\n",
        "\n",
        "```python\n",
        "add = lambda x, y: x + y\n",
        "print(add(2, 3))  # Output: 5\n",
        "```"
      ],
      "metadata": {
        "id": "TVbDTqkTjVso"
      }
    },
    {
      "cell_type": "code",
      "source": [
        "def summation(x,y):\n",
        "  return x+y\n",
        "\n",
        "summation(2,3)"
      ],
      "metadata": {
        "colab": {
          "base_uri": "https://localhost:8080/"
        },
        "id": "6acrmCGvjWhA",
        "outputId": "61a6d755-7ec4-42fe-e7e0-11a57472f29d"
      },
      "execution_count": null,
      "outputs": [
        {
          "output_type": "execute_result",
          "data": {
            "text/plain": [
              "5"
            ]
          },
          "metadata": {},
          "execution_count": 50
        }
      ]
    },
    {
      "cell_type": "code",
      "source": [
        "add=lambda x,y: x+y\n",
        "add(2,3)"
      ],
      "metadata": {
        "colab": {
          "base_uri": "https://localhost:8080/"
        },
        "id": "2-DxFI5dklyB",
        "outputId": "ca066ec3-defa-4338-c2d2-9fd79cb28840"
      },
      "execution_count": null,
      "outputs": [
        {
          "output_type": "execute_result",
          "data": {
            "text/plain": [
              "5"
            ]
          },
          "metadata": {},
          "execution_count": 52
        }
      ]
    },
    {
      "cell_type": "markdown",
      "source": [
        "\n",
        "\n",
        "### 7 Merge Syntax in Pandas\n"
      ],
      "metadata": {
        "id": "fzY2ALOzMgIG"
      }
    },
    {
      "cell_type": "markdown",
      "source": [
        "```python\n",
        "df_merged = pd.merge(df1, df2, on='key_column', how='inner')\n",
        "```"
      ],
      "metadata": {
        "id": "MiWu2NNjlZNc"
      }
    },
    {
      "cell_type": "code",
      "source": [
        "#Slots\n",
        "!wget https://raw.githubusercontent.com/venkatareddykonasani/Datasets/master/TV%20Commercial%20Slots%20Analysis/slots.csv\n",
        "#Orders\n",
        "!wget https://raw.githubusercontent.com/venkatareddykonasani/Datasets/master/TV%20Commercial%20Slots%20Analysis/orders.csv"
      ],
      "metadata": {
        "colab": {
          "base_uri": "https://localhost:8080/"
        },
        "id": "8tQkLHq6rAQH",
        "outputId": "244f8f7b-9b69-44e5-8e0f-c2d1978ce5ae"
      },
      "execution_count": null,
      "outputs": [
        {
          "output_type": "stream",
          "name": "stdout",
          "text": [
            "--2024-07-07 10:15:10--  https://raw.githubusercontent.com/venkatareddykonasani/Datasets/master/TV%20Commercial%20Slots%20Analysis/slots.csv\n",
            "Resolving raw.githubusercontent.com (raw.githubusercontent.com)... 185.199.108.133, 185.199.109.133, 185.199.110.133, ...\n",
            "Connecting to raw.githubusercontent.com (raw.githubusercontent.com)|185.199.108.133|:443... connected.\n",
            "HTTP request sent, awaiting response... 200 OK\n",
            "Length: 239893 (234K) [text/plain]\n",
            "Saving to: ‘slots.csv’\n",
            "\n",
            "slots.csv           100%[===================>] 234.27K  --.-KB/s    in 0.03s   \n",
            "\n",
            "2024-07-07 10:15:11 (8.54 MB/s) - ‘slots.csv’ saved [239893/239893]\n",
            "\n",
            "--2024-07-07 10:15:11--  https://raw.githubusercontent.com/venkatareddykonasani/Datasets/master/TV%20Commercial%20Slots%20Analysis/orders.csv\n",
            "Resolving raw.githubusercontent.com (raw.githubusercontent.com)... 185.199.108.133, 185.199.109.133, 185.199.110.133, ...\n",
            "Connecting to raw.githubusercontent.com (raw.githubusercontent.com)|185.199.108.133|:443... connected.\n",
            "HTTP request sent, awaiting response... 200 OK\n",
            "Length: 121099 (118K) [text/plain]\n",
            "Saving to: ‘orders.csv’\n",
            "\n",
            "orders.csv          100%[===================>] 118.26K  --.-KB/s    in 0.02s   \n",
            "\n",
            "2024-07-07 10:15:11 (6.03 MB/s) - ‘orders.csv’ saved [121099/121099]\n",
            "\n"
          ]
        }
      ]
    },
    {
      "cell_type": "code",
      "source": [
        "orders = pd.read_csv('/content/orders.csv')\n",
        "slots = pd.read_csv('/content/slots.csv')\n",
        "print(orders.shape)\n",
        "print(slots.shape)\n",
        "\n",
        "#inner join\n",
        "orders_slots = pd.merge(orders, slots, on='Unique_id', how='inner')\n",
        "print(orders_slots.shape)"
      ],
      "metadata": {
        "colab": {
          "base_uri": "https://localhost:8080/"
        },
        "id": "U3YUrD8tl9r6",
        "outputId": "92bbe00a-8dee-4ce4-c66d-f83a0de95eb0"
      },
      "execution_count": null,
      "outputs": [
        {
          "output_type": "stream",
          "name": "stdout",
          "text": [
            "(1369, 9)\n",
            "(1764, 17)\n",
            "(8, 25)\n"
          ]
        }
      ]
    },
    {
      "cell_type": "markdown",
      "source": [
        "\n",
        "\n",
        "### 8 How to Concatenate and Join in Pandas?\n"
      ],
      "metadata": {
        "id": "SqrArkJrMi71"
      }
    },
    {
      "cell_type": "markdown",
      "source": [
        "\n",
        "**Concatenate:**\n",
        "```python\n",
        "df_concat = pd.concat([df1, df2], axis=0)  # Concatenates along rows\n",
        "df_concat = pd.concat([df1, df2], axis=1)  # Concatenates along columns\n",
        "```\n",
        "\n",
        "**Join:**\n",
        "```python\n",
        "df_joined = df1.join(df2, on='key_column', how='inner')\n",
        "```\n"
      ],
      "metadata": {
        "id": "EGlYqdRvqZ7q"
      }
    },
    {
      "cell_type": "code",
      "source": [
        "#Train data\n",
        "#Car_Accidents_IOT/train.csv\n",
        "!wget https://raw.githubusercontent.com/venkatareddykonasani/Datasets/master/Car_Accidents_IOT/train.csv\n",
        "\n",
        "#Test data\n",
        "#Car_Accidents_IOT/test.csv\n",
        "!wget https://raw.githubusercontent.com/venkatareddykonasani/Datasets/master/Car_Accidents_IOT/test.csv"
      ],
      "metadata": {
        "colab": {
          "base_uri": "https://localhost:8080/"
        },
        "id": "WtaTS53Dqa5h",
        "outputId": "00e98697-6acc-4c92-ae6f-c8dc155417eb"
      },
      "execution_count": null,
      "outputs": [
        {
          "output_type": "stream",
          "name": "stdout",
          "text": [
            "--2024-07-07 10:19:05--  https://raw.githubusercontent.com/venkatareddykonasani/Datasets/master/Car_Accidents_IOT/train.csv\n",
            "Resolving raw.githubusercontent.com (raw.githubusercontent.com)... 185.199.108.133, 185.199.109.133, 185.199.110.133, ...\n",
            "Connecting to raw.githubusercontent.com (raw.githubusercontent.com)|185.199.108.133|:443... connected.\n",
            "HTTP request sent, awaiting response... 200 OK\n",
            "Length: 1622299 (1.5M) [text/plain]\n",
            "Saving to: ‘train.csv’\n",
            "\n",
            "\rtrain.csv             0%[                    ]       0  --.-KB/s               \rtrain.csv           100%[===================>]   1.55M  --.-KB/s    in 0.04s   \n",
            "\n",
            "2024-07-07 10:19:05 (34.8 MB/s) - ‘train.csv’ saved [1622299/1622299]\n",
            "\n",
            "--2024-07-07 10:19:05--  https://raw.githubusercontent.com/venkatareddykonasani/Datasets/master/Car_Accidents_IOT/test.csv\n",
            "Resolving raw.githubusercontent.com (raw.githubusercontent.com)... 185.199.108.133, 185.199.109.133, 185.199.110.133, ...\n",
            "Connecting to raw.githubusercontent.com (raw.githubusercontent.com)|185.199.108.133|:443... connected.\n",
            "HTTP request sent, awaiting response... 200 OK\n",
            "Length: 973962 (951K) [text/plain]\n",
            "Saving to: ‘test.csv’\n",
            "\n",
            "test.csv            100%[===================>] 951.13K  --.-KB/s    in 0.05s   \n",
            "\n",
            "2024-07-07 10:19:06 (19.4 MB/s) - ‘test.csv’ saved [973962/973962]\n",
            "\n"
          ]
        }
      ]
    },
    {
      "cell_type": "code",
      "source": [
        "#read train and test data\n",
        "train = pd.read_csv('/content/train.csv')\n",
        "print(train.shape)\n",
        "test = pd.read_csv('/content/test.csv')\n",
        "print(test.shape)\n",
        "\n",
        "#concat the datasets\n",
        "df = pd.concat([train, test], ignore_index=True)\n",
        "print(df.shape)"
      ],
      "metadata": {
        "colab": {
          "base_uri": "https://localhost:8080/"
        },
        "id": "04myD__ytGCT",
        "outputId": "0d2681ed-0ed1-4ad2-a187-9dca9895c3fa"
      },
      "execution_count": null,
      "outputs": [
        {
          "output_type": "stream",
          "name": "stdout",
          "text": [
            "(24174, 23)\n"
          ]
        }
      ]
    },
    {
      "cell_type": "markdown",
      "source": [
        "\n",
        "\n",
        "### 9 What is `inplace=True/False`? while droping a column in pandas datafarme?\n"
      ],
      "metadata": {
        "id": "IQjlPj8oMlkc"
      }
    },
    {
      "cell_type": "markdown",
      "source": [
        "In pandas, when you use the `drop` method to remove a column (or row) from a DataFrame, the parameter `inplace` specifies whether to perform the operation in place or to return a new DataFrame with the column (or row) removed. Here's what each option does:\n",
        "\n",
        "- `inplace=True`: This modifies the original DataFrame directly, dropping the specified column (or row) without returning a new DataFrame. The operation is performed in place.\n",
        "\n",
        "  ```python\n",
        "  df.drop('column_name', axis=1, inplace=True)\n",
        "  ```\n",
        "\n",
        "- `inplace=False`: This is the default behavior. It returns a new DataFrame with the specified column (or row) dropped, leaving the original DataFrame unchanged.\n",
        "\n",
        "  ```python\n",
        "  new_df = df.drop('column_name', axis=1, inplace=False)\n",
        "  # or simply\n",
        "  new_df = df.drop('column_name', axis=1)\n",
        "  ```\n"
      ],
      "metadata": {
        "id": "kapHaLHMvH_1"
      }
    },
    {
      "cell_type": "code",
      "source": [
        "slots = pd.read_csv('/content/slots.csv')\n",
        "print(slots.info())\n",
        "slots.drop('Product ID', axis=1, inplace=True)\n",
        "print(slots.info())"
      ],
      "metadata": {
        "colab": {
          "base_uri": "https://localhost:8080/"
        },
        "id": "k8N8oN0Yu2Zc",
        "outputId": "44c04b56-ecc3-4a96-dcbc-d8c06d183b2b"
      },
      "execution_count": null,
      "outputs": [
        {
          "output_type": "stream",
          "name": "stdout",
          "text": [
            "<class 'pandas.core.frame.DataFrame'>\n",
            "RangeIndex: 1764 entries, 0 to 1763\n",
            "Data columns (total 17 columns):\n",
            " #   Column                Non-Null Count  Dtype  \n",
            "---  ------                --------------  -----  \n",
            " 0   Unique_id             1764 non-null   object \n",
            " 1   AD_ID                 1764 non-null   object \n",
            " 2   Air Date              1764 non-null   object \n",
            " 3   Air Time              1761 non-null   object \n",
            " 4   Time Zone             1764 non-null   object \n",
            " 5   Client Product Code   1764 non-null   object \n",
            " 6   Product ID            1764 non-null   object \n",
            " 7   Length                1764 non-null   int64  \n",
            " 8   Network ID            1764 non-null   object \n",
            " 9   Network Name          1764 non-null   object \n",
            " 10  Network Type          1761 non-null   object \n",
            " 11  Network DMA           1747 non-null   object \n",
            " 12  Network Feed          1325 non-null   object \n",
            " 13  HH Impressions        1211 non-null   float64\n",
            " 14  HH Ratings            1211 non-null   float64\n",
            " 15  Spot Cost             1742 non-null   float64\n",
            " 16  Spot Cost Discounted  1764 non-null   float64\n",
            "dtypes: float64(4), int64(1), object(12)\n",
            "memory usage: 234.4+ KB\n",
            "None\n",
            "<class 'pandas.core.frame.DataFrame'>\n",
            "RangeIndex: 1764 entries, 0 to 1763\n",
            "Data columns (total 16 columns):\n",
            " #   Column                Non-Null Count  Dtype  \n",
            "---  ------                --------------  -----  \n",
            " 0   Unique_id             1764 non-null   object \n",
            " 1   AD_ID                 1764 non-null   object \n",
            " 2   Air Date              1764 non-null   object \n",
            " 3   Air Time              1761 non-null   object \n",
            " 4   Time Zone             1764 non-null   object \n",
            " 5   Client Product Code   1764 non-null   object \n",
            " 6   Length                1764 non-null   int64  \n",
            " 7   Network ID            1764 non-null   object \n",
            " 8   Network Name          1764 non-null   object \n",
            " 9   Network Type          1761 non-null   object \n",
            " 10  Network DMA           1747 non-null   object \n",
            " 11  Network Feed          1325 non-null   object \n",
            " 12  HH Impressions        1211 non-null   float64\n",
            " 13  HH Ratings            1211 non-null   float64\n",
            " 14  Spot Cost             1742 non-null   float64\n",
            " 15  Spot Cost Discounted  1764 non-null   float64\n",
            "dtypes: float64(4), int64(1), object(11)\n",
            "memory usage: 220.6+ KB\n",
            "None\n"
          ]
        }
      ]
    },
    {
      "cell_type": "code",
      "source": [
        "#Will not be dropped here\n",
        "print(slots.info())\n",
        "slots.drop('Spot Cost', axis=1, inplace=False)\n",
        "print(slots.info())"
      ],
      "metadata": {
        "colab": {
          "base_uri": "https://localhost:8080/"
        },
        "id": "or8ymT4fvz_O",
        "outputId": "f84a4386-506e-4ae9-de9f-4ed191afbf53"
      },
      "execution_count": null,
      "outputs": [
        {
          "output_type": "stream",
          "name": "stdout",
          "text": [
            "<class 'pandas.core.frame.DataFrame'>\n",
            "RangeIndex: 1764 entries, 0 to 1763\n",
            "Data columns (total 16 columns):\n",
            " #   Column                Non-Null Count  Dtype  \n",
            "---  ------                --------------  -----  \n",
            " 0   Unique_id             1764 non-null   object \n",
            " 1   AD_ID                 1764 non-null   object \n",
            " 2   Air Date              1764 non-null   object \n",
            " 3   Air Time              1761 non-null   object \n",
            " 4   Time Zone             1764 non-null   object \n",
            " 5   Client Product Code   1764 non-null   object \n",
            " 6   Length                1764 non-null   int64  \n",
            " 7   Network ID            1764 non-null   object \n",
            " 8   Network Name          1764 non-null   object \n",
            " 9   Network Type          1761 non-null   object \n",
            " 10  Network DMA           1747 non-null   object \n",
            " 11  Network Feed          1325 non-null   object \n",
            " 12  HH Impressions        1211 non-null   float64\n",
            " 13  HH Ratings            1211 non-null   float64\n",
            " 14  Spot Cost             1742 non-null   float64\n",
            " 15  Spot Cost Discounted  1764 non-null   float64\n",
            "dtypes: float64(4), int64(1), object(11)\n",
            "memory usage: 220.6+ KB\n",
            "None\n",
            "<class 'pandas.core.frame.DataFrame'>\n",
            "RangeIndex: 1764 entries, 0 to 1763\n",
            "Data columns (total 16 columns):\n",
            " #   Column                Non-Null Count  Dtype  \n",
            "---  ------                --------------  -----  \n",
            " 0   Unique_id             1764 non-null   object \n",
            " 1   AD_ID                 1764 non-null   object \n",
            " 2   Air Date              1764 non-null   object \n",
            " 3   Air Time              1761 non-null   object \n",
            " 4   Time Zone             1764 non-null   object \n",
            " 5   Client Product Code   1764 non-null   object \n",
            " 6   Length                1764 non-null   int64  \n",
            " 7   Network ID            1764 non-null   object \n",
            " 8   Network Name          1764 non-null   object \n",
            " 9   Network Type          1761 non-null   object \n",
            " 10  Network DMA           1747 non-null   object \n",
            " 11  Network Feed          1325 non-null   object \n",
            " 12  HH Impressions        1211 non-null   float64\n",
            " 13  HH Ratings            1211 non-null   float64\n",
            " 14  Spot Cost             1742 non-null   float64\n",
            " 15  Spot Cost Discounted  1764 non-null   float64\n",
            "dtypes: float64(4), int64(1), object(11)\n",
            "memory usage: 220.6+ KB\n",
            "None\n"
          ]
        }
      ]
    },
    {
      "cell_type": "markdown",
      "source": [
        "\n",
        "\n",
        "### 10 How to Remove Duplicates in Pandas?\n"
      ],
      "metadata": {
        "id": "5N7ar9FILbur"
      }
    },
    {
      "cell_type": "markdown",
      "source": [
        "To remove duplicates in pandas, you can use the `drop_duplicates` method. This method can be applied to a DataFrame to remove rows that are duplicates of other rows. Here are several ways to use `drop_duplicates`:\n",
        "\n",
        "1. **Remove duplicate rows:**\n",
        "\n",
        "   ```python\n",
        "   df.drop_duplicates(inplace=True)\n",
        "   ```\n",
        "\n",
        "   This removes all rows that are identical to another row in the DataFrame.\n",
        "\n",
        "2. **Remove duplicates based on specific columns:**\n",
        "\n",
        "   ```python\n",
        "   df.drop_duplicates(subset=['column_name'], inplace=True)\n",
        "   ```\n",
        "\n",
        "   This removes rows where the values in the specified column(s) are identical.\n",
        "\n",
        "3. **Keep the first occurrence (default behavior):**\n",
        "\n",
        "   ```python\n",
        "   df.drop_duplicates(keep='first', inplace=True)\n",
        "   ```\n",
        "\n",
        "   This keeps the first occurrence of the duplicate row and removes the subsequent duplicates.\n",
        "\n",
        "4. **Keep the last occurrence:**\n",
        "\n",
        "   ```python\n",
        "   df.drop_duplicates(keep='last', inplace=True)\n",
        "   ```\n",
        "\n",
        "   This keeps the last occurrence of the duplicate row and removes the preceding duplicates.\n",
        "\n",
        "5. **Remove all duplicates:**\n",
        "\n",
        "   ```python\n",
        "   df.drop_duplicates(keep=False, inplace=True)\n",
        "   ```\n",
        "\n",
        "   This removes all rows that have duplicates, keeping none of the duplicate rows.\n",
        "\n",
        "6. **Resetting the index after removing duplicates:**\n",
        "\n",
        "   ```python\n",
        "   df.drop_duplicates(inplace=True)\n",
        "   df.reset_index(drop=True, inplace=True)\n",
        "   ```\n",
        "\n",
        "   This resets the index of the DataFrame after duplicates have been removed.\n"
      ],
      "metadata": {
        "id": "0DoVm3RAwydb"
      }
    },
    {
      "cell_type": "code",
      "source": [
        "#reviews data\n",
        "#Product data\n",
        "!wget https://raw.githubusercontent.com/venkatareddykonasani/Datasets/master/Brazil_Ecom_Data/olist_products_dataset.csv"
      ],
      "metadata": {
        "colab": {
          "base_uri": "https://localhost:8080/"
        },
        "id": "tfEqVzGuxC7M",
        "outputId": "76582c8c-b91f-4fef-9c33-8d4302ddc65d"
      },
      "execution_count": null,
      "outputs": [
        {
          "output_type": "stream",
          "name": "stdout",
          "text": [
            "--2024-07-07 10:37:47--  https://raw.githubusercontent.com/venkatareddykonasani/Datasets/master/Brazil_Ecom_Data/olist_products_dataset.csv\n",
            "Resolving raw.githubusercontent.com (raw.githubusercontent.com)... 185.199.108.133, 185.199.109.133, 185.199.110.133, ...\n",
            "Connecting to raw.githubusercontent.com (raw.githubusercontent.com)|185.199.108.133|:443... connected.\n",
            "HTTP request sent, awaiting response... 200 OK\n",
            "Length: 2379446 (2.3M) [text/plain]\n",
            "Saving to: ‘olist_products_dataset.csv’\n",
            "\n",
            "olist_products_data 100%[===================>]   2.27M  --.-KB/s    in 0.05s   \n",
            "\n",
            "2024-07-07 10:37:47 (45.6 MB/s) - ‘olist_products_dataset.csv’ saved [2379446/2379446]\n",
            "\n"
          ]
        }
      ]
    },
    {
      "cell_type": "code",
      "source": [
        "products = pd.read_csv('/content/olist_products_dataset.csv')\n",
        "print(products.shape)\n",
        "products.head()"
      ],
      "metadata": {
        "colab": {
          "base_uri": "https://localhost:8080/",
          "height": 243
        },
        "id": "WAdDn3rbxXd6",
        "outputId": "5e6f7b43-3a62-42b6-e7cf-486e8007012a"
      },
      "execution_count": null,
      "outputs": [
        {
          "output_type": "stream",
          "name": "stdout",
          "text": [
            "(32951, 9)\n"
          ]
        },
        {
          "output_type": "execute_result",
          "data": {
            "text/plain": [
              "                         product_id  product_category_name  \\\n",
              "0  1e9e8ef04dbcff4541ed26657ea517e5             perfumaria   \n",
              "1  3aa071139cb16b67ca9e5dea641aaa2f                  artes   \n",
              "2  96bd76ec8810374ed1b65e291975717f          esporte_lazer   \n",
              "3  cef67bcfe19066a932b7673e239eb23d                  bebes   \n",
              "4  9dc1a7de274444849c219cff195d0b71  utilidades_domesticas   \n",
              "\n",
              "   product_name_lenght  product_description_lenght  product_photos_qty  \\\n",
              "0                 40.0                       287.0                 1.0   \n",
              "1                 44.0                       276.0                 1.0   \n",
              "2                 46.0                       250.0                 1.0   \n",
              "3                 27.0                       261.0                 1.0   \n",
              "4                 37.0                       402.0                 4.0   \n",
              "\n",
              "   product_weight_g  product_length_cm  product_height_cm  product_width_cm  \n",
              "0             225.0               16.0               10.0              14.0  \n",
              "1            1000.0               30.0               18.0              20.0  \n",
              "2             154.0               18.0                9.0              15.0  \n",
              "3             371.0               26.0                4.0              26.0  \n",
              "4             625.0               20.0               17.0              13.0  "
            ],
            "text/html": [
              "\n",
              "  <div id=\"df-791e4239-b34a-4778-b4ef-eb7fee397be0\" class=\"colab-df-container\">\n",
              "    <div>\n",
              "<style scoped>\n",
              "    .dataframe tbody tr th:only-of-type {\n",
              "        vertical-align: middle;\n",
              "    }\n",
              "\n",
              "    .dataframe tbody tr th {\n",
              "        vertical-align: top;\n",
              "    }\n",
              "\n",
              "    .dataframe thead th {\n",
              "        text-align: right;\n",
              "    }\n",
              "</style>\n",
              "<table border=\"1\" class=\"dataframe\">\n",
              "  <thead>\n",
              "    <tr style=\"text-align: right;\">\n",
              "      <th></th>\n",
              "      <th>product_id</th>\n",
              "      <th>product_category_name</th>\n",
              "      <th>product_name_lenght</th>\n",
              "      <th>product_description_lenght</th>\n",
              "      <th>product_photos_qty</th>\n",
              "      <th>product_weight_g</th>\n",
              "      <th>product_length_cm</th>\n",
              "      <th>product_height_cm</th>\n",
              "      <th>product_width_cm</th>\n",
              "    </tr>\n",
              "  </thead>\n",
              "  <tbody>\n",
              "    <tr>\n",
              "      <th>0</th>\n",
              "      <td>1e9e8ef04dbcff4541ed26657ea517e5</td>\n",
              "      <td>perfumaria</td>\n",
              "      <td>40.0</td>\n",
              "      <td>287.0</td>\n",
              "      <td>1.0</td>\n",
              "      <td>225.0</td>\n",
              "      <td>16.0</td>\n",
              "      <td>10.0</td>\n",
              "      <td>14.0</td>\n",
              "    </tr>\n",
              "    <tr>\n",
              "      <th>1</th>\n",
              "      <td>3aa071139cb16b67ca9e5dea641aaa2f</td>\n",
              "      <td>artes</td>\n",
              "      <td>44.0</td>\n",
              "      <td>276.0</td>\n",
              "      <td>1.0</td>\n",
              "      <td>1000.0</td>\n",
              "      <td>30.0</td>\n",
              "      <td>18.0</td>\n",
              "      <td>20.0</td>\n",
              "    </tr>\n",
              "    <tr>\n",
              "      <th>2</th>\n",
              "      <td>96bd76ec8810374ed1b65e291975717f</td>\n",
              "      <td>esporte_lazer</td>\n",
              "      <td>46.0</td>\n",
              "      <td>250.0</td>\n",
              "      <td>1.0</td>\n",
              "      <td>154.0</td>\n",
              "      <td>18.0</td>\n",
              "      <td>9.0</td>\n",
              "      <td>15.0</td>\n",
              "    </tr>\n",
              "    <tr>\n",
              "      <th>3</th>\n",
              "      <td>cef67bcfe19066a932b7673e239eb23d</td>\n",
              "      <td>bebes</td>\n",
              "      <td>27.0</td>\n",
              "      <td>261.0</td>\n",
              "      <td>1.0</td>\n",
              "      <td>371.0</td>\n",
              "      <td>26.0</td>\n",
              "      <td>4.0</td>\n",
              "      <td>26.0</td>\n",
              "    </tr>\n",
              "    <tr>\n",
              "      <th>4</th>\n",
              "      <td>9dc1a7de274444849c219cff195d0b71</td>\n",
              "      <td>utilidades_domesticas</td>\n",
              "      <td>37.0</td>\n",
              "      <td>402.0</td>\n",
              "      <td>4.0</td>\n",
              "      <td>625.0</td>\n",
              "      <td>20.0</td>\n",
              "      <td>17.0</td>\n",
              "      <td>13.0</td>\n",
              "    </tr>\n",
              "  </tbody>\n",
              "</table>\n",
              "</div>\n",
              "    <div class=\"colab-df-buttons\">\n",
              "\n",
              "  <div class=\"colab-df-container\">\n",
              "    <button class=\"colab-df-convert\" onclick=\"convertToInteractive('df-791e4239-b34a-4778-b4ef-eb7fee397be0')\"\n",
              "            title=\"Convert this dataframe to an interactive table.\"\n",
              "            style=\"display:none;\">\n",
              "\n",
              "  <svg xmlns=\"http://www.w3.org/2000/svg\" height=\"24px\" viewBox=\"0 -960 960 960\">\n",
              "    <path d=\"M120-120v-720h720v720H120Zm60-500h600v-160H180v160Zm220 220h160v-160H400v160Zm0 220h160v-160H400v160ZM180-400h160v-160H180v160Zm440 0h160v-160H620v160ZM180-180h160v-160H180v160Zm440 0h160v-160H620v160Z\"/>\n",
              "  </svg>\n",
              "    </button>\n",
              "\n",
              "  <style>\n",
              "    .colab-df-container {\n",
              "      display:flex;\n",
              "      gap: 12px;\n",
              "    }\n",
              "\n",
              "    .colab-df-convert {\n",
              "      background-color: #E8F0FE;\n",
              "      border: none;\n",
              "      border-radius: 50%;\n",
              "      cursor: pointer;\n",
              "      display: none;\n",
              "      fill: #1967D2;\n",
              "      height: 32px;\n",
              "      padding: 0 0 0 0;\n",
              "      width: 32px;\n",
              "    }\n",
              "\n",
              "    .colab-df-convert:hover {\n",
              "      background-color: #E2EBFA;\n",
              "      box-shadow: 0px 1px 2px rgba(60, 64, 67, 0.3), 0px 1px 3px 1px rgba(60, 64, 67, 0.15);\n",
              "      fill: #174EA6;\n",
              "    }\n",
              "\n",
              "    .colab-df-buttons div {\n",
              "      margin-bottom: 4px;\n",
              "    }\n",
              "\n",
              "    [theme=dark] .colab-df-convert {\n",
              "      background-color: #3B4455;\n",
              "      fill: #D2E3FC;\n",
              "    }\n",
              "\n",
              "    [theme=dark] .colab-df-convert:hover {\n",
              "      background-color: #434B5C;\n",
              "      box-shadow: 0px 1px 3px 1px rgba(0, 0, 0, 0.15);\n",
              "      filter: drop-shadow(0px 1px 2px rgba(0, 0, 0, 0.3));\n",
              "      fill: #FFFFFF;\n",
              "    }\n",
              "  </style>\n",
              "\n",
              "    <script>\n",
              "      const buttonEl =\n",
              "        document.querySelector('#df-791e4239-b34a-4778-b4ef-eb7fee397be0 button.colab-df-convert');\n",
              "      buttonEl.style.display =\n",
              "        google.colab.kernel.accessAllowed ? 'block' : 'none';\n",
              "\n",
              "      async function convertToInteractive(key) {\n",
              "        const element = document.querySelector('#df-791e4239-b34a-4778-b4ef-eb7fee397be0');\n",
              "        const dataTable =\n",
              "          await google.colab.kernel.invokeFunction('convertToInteractive',\n",
              "                                                    [key], {});\n",
              "        if (!dataTable) return;\n",
              "\n",
              "        const docLinkHtml = 'Like what you see? Visit the ' +\n",
              "          '<a target=\"_blank\" href=https://colab.research.google.com/notebooks/data_table.ipynb>data table notebook</a>'\n",
              "          + ' to learn more about interactive tables.';\n",
              "        element.innerHTML = '';\n",
              "        dataTable['output_type'] = 'display_data';\n",
              "        await google.colab.output.renderOutput(dataTable, element);\n",
              "        const docLink = document.createElement('div');\n",
              "        docLink.innerHTML = docLinkHtml;\n",
              "        element.appendChild(docLink);\n",
              "      }\n",
              "    </script>\n",
              "  </div>\n",
              "\n",
              "\n",
              "<div id=\"df-c08bfe8a-05ce-4dc3-a296-1ac8f62dc528\">\n",
              "  <button class=\"colab-df-quickchart\" onclick=\"quickchart('df-c08bfe8a-05ce-4dc3-a296-1ac8f62dc528')\"\n",
              "            title=\"Suggest charts\"\n",
              "            style=\"display:none;\">\n",
              "\n",
              "<svg xmlns=\"http://www.w3.org/2000/svg\" height=\"24px\"viewBox=\"0 0 24 24\"\n",
              "     width=\"24px\">\n",
              "    <g>\n",
              "        <path d=\"M19 3H5c-1.1 0-2 .9-2 2v14c0 1.1.9 2 2 2h14c1.1 0 2-.9 2-2V5c0-1.1-.9-2-2-2zM9 17H7v-7h2v7zm4 0h-2V7h2v10zm4 0h-2v-4h2v4z\"/>\n",
              "    </g>\n",
              "</svg>\n",
              "  </button>\n",
              "\n",
              "<style>\n",
              "  .colab-df-quickchart {\n",
              "      --bg-color: #E8F0FE;\n",
              "      --fill-color: #1967D2;\n",
              "      --hover-bg-color: #E2EBFA;\n",
              "      --hover-fill-color: #174EA6;\n",
              "      --disabled-fill-color: #AAA;\n",
              "      --disabled-bg-color: #DDD;\n",
              "  }\n",
              "\n",
              "  [theme=dark] .colab-df-quickchart {\n",
              "      --bg-color: #3B4455;\n",
              "      --fill-color: #D2E3FC;\n",
              "      --hover-bg-color: #434B5C;\n",
              "      --hover-fill-color: #FFFFFF;\n",
              "      --disabled-bg-color: #3B4455;\n",
              "      --disabled-fill-color: #666;\n",
              "  }\n",
              "\n",
              "  .colab-df-quickchart {\n",
              "    background-color: var(--bg-color);\n",
              "    border: none;\n",
              "    border-radius: 50%;\n",
              "    cursor: pointer;\n",
              "    display: none;\n",
              "    fill: var(--fill-color);\n",
              "    height: 32px;\n",
              "    padding: 0;\n",
              "    width: 32px;\n",
              "  }\n",
              "\n",
              "  .colab-df-quickchart:hover {\n",
              "    background-color: var(--hover-bg-color);\n",
              "    box-shadow: 0 1px 2px rgba(60, 64, 67, 0.3), 0 1px 3px 1px rgba(60, 64, 67, 0.15);\n",
              "    fill: var(--button-hover-fill-color);\n",
              "  }\n",
              "\n",
              "  .colab-df-quickchart-complete:disabled,\n",
              "  .colab-df-quickchart-complete:disabled:hover {\n",
              "    background-color: var(--disabled-bg-color);\n",
              "    fill: var(--disabled-fill-color);\n",
              "    box-shadow: none;\n",
              "  }\n",
              "\n",
              "  .colab-df-spinner {\n",
              "    border: 2px solid var(--fill-color);\n",
              "    border-color: transparent;\n",
              "    border-bottom-color: var(--fill-color);\n",
              "    animation:\n",
              "      spin 1s steps(1) infinite;\n",
              "  }\n",
              "\n",
              "  @keyframes spin {\n",
              "    0% {\n",
              "      border-color: transparent;\n",
              "      border-bottom-color: var(--fill-color);\n",
              "      border-left-color: var(--fill-color);\n",
              "    }\n",
              "    20% {\n",
              "      border-color: transparent;\n",
              "      border-left-color: var(--fill-color);\n",
              "      border-top-color: var(--fill-color);\n",
              "    }\n",
              "    30% {\n",
              "      border-color: transparent;\n",
              "      border-left-color: var(--fill-color);\n",
              "      border-top-color: var(--fill-color);\n",
              "      border-right-color: var(--fill-color);\n",
              "    }\n",
              "    40% {\n",
              "      border-color: transparent;\n",
              "      border-right-color: var(--fill-color);\n",
              "      border-top-color: var(--fill-color);\n",
              "    }\n",
              "    60% {\n",
              "      border-color: transparent;\n",
              "      border-right-color: var(--fill-color);\n",
              "    }\n",
              "    80% {\n",
              "      border-color: transparent;\n",
              "      border-right-color: var(--fill-color);\n",
              "      border-bottom-color: var(--fill-color);\n",
              "    }\n",
              "    90% {\n",
              "      border-color: transparent;\n",
              "      border-bottom-color: var(--fill-color);\n",
              "    }\n",
              "  }\n",
              "</style>\n",
              "\n",
              "  <script>\n",
              "    async function quickchart(key) {\n",
              "      const quickchartButtonEl =\n",
              "        document.querySelector('#' + key + ' button');\n",
              "      quickchartButtonEl.disabled = true;  // To prevent multiple clicks.\n",
              "      quickchartButtonEl.classList.add('colab-df-spinner');\n",
              "      try {\n",
              "        const charts = await google.colab.kernel.invokeFunction(\n",
              "            'suggestCharts', [key], {});\n",
              "      } catch (error) {\n",
              "        console.error('Error during call to suggestCharts:', error);\n",
              "      }\n",
              "      quickchartButtonEl.classList.remove('colab-df-spinner');\n",
              "      quickchartButtonEl.classList.add('colab-df-quickchart-complete');\n",
              "    }\n",
              "    (() => {\n",
              "      let quickchartButtonEl =\n",
              "        document.querySelector('#df-c08bfe8a-05ce-4dc3-a296-1ac8f62dc528 button');\n",
              "      quickchartButtonEl.style.display =\n",
              "        google.colab.kernel.accessAllowed ? 'block' : 'none';\n",
              "    })();\n",
              "  </script>\n",
              "</div>\n",
              "\n",
              "    </div>\n",
              "  </div>\n"
            ],
            "application/vnd.google.colaboratory.intrinsic+json": {
              "type": "dataframe",
              "variable_name": "products",
              "summary": "{\n  \"name\": \"products\",\n  \"rows\": 32951,\n  \"fields\": [\n    {\n      \"column\": \"product_id\",\n      \"properties\": {\n        \"dtype\": \"string\",\n        \"num_unique_values\": 32951,\n        \"samples\": [\n          \"f819f0c84a64f02d3a5606ca95edd272\",\n          \"b9de40e43fccb6ba53b7eadbd5c49077\",\n          \"26afe4ed5890d941fcba14205863eec7\"\n        ],\n        \"semantic_type\": \"\",\n        \"description\": \"\"\n      }\n    },\n    {\n      \"column\": \"product_category_name\",\n      \"properties\": {\n        \"dtype\": \"category\",\n        \"num_unique_values\": 73,\n        \"samples\": [\n          \"utilidades_domesticas\",\n          \"pc_gamer\",\n          \"eletronicos\"\n        ],\n        \"semantic_type\": \"\",\n        \"description\": \"\"\n      }\n    },\n    {\n      \"column\": \"product_name_lenght\",\n      \"properties\": {\n        \"dtype\": \"number\",\n        \"std\": 10.245740725237239,\n        \"min\": 5.0,\n        \"max\": 76.0,\n        \"num_unique_values\": 66,\n        \"samples\": [\n          13.0,\n          72.0,\n          40.0\n        ],\n        \"semantic_type\": \"\",\n        \"description\": \"\"\n      }\n    },\n    {\n      \"column\": \"product_description_lenght\",\n      \"properties\": {\n        \"dtype\": \"number\",\n        \"std\": 635.1152246349538,\n        \"min\": 4.0,\n        \"max\": 3992.0,\n        \"num_unique_values\": 2960,\n        \"samples\": [\n          1314.0,\n          40.0,\n          123.0\n        ],\n        \"semantic_type\": \"\",\n        \"description\": \"\"\n      }\n    },\n    {\n      \"column\": \"product_photos_qty\",\n      \"properties\": {\n        \"dtype\": \"number\",\n        \"std\": 1.7367656379315444,\n        \"min\": 1.0,\n        \"max\": 20.0,\n        \"num_unique_values\": 19,\n        \"samples\": [\n          1.0,\n          9.0,\n          17.0\n        ],\n        \"semantic_type\": \"\",\n        \"description\": \"\"\n      }\n    },\n    {\n      \"column\": \"product_weight_g\",\n      \"properties\": {\n        \"dtype\": \"number\",\n        \"std\": 4282.038730977007,\n        \"min\": 0.0,\n        \"max\": 40425.0,\n        \"num_unique_values\": 2204,\n        \"samples\": [\n          567.0,\n          241.0,\n          2646.0\n        ],\n        \"semantic_type\": \"\",\n        \"description\": \"\"\n      }\n    },\n    {\n      \"column\": \"product_length_cm\",\n      \"properties\": {\n        \"dtype\": \"number\",\n        \"std\": 16.914458054065967,\n        \"min\": 7.0,\n        \"max\": 105.0,\n        \"num_unique_values\": 99,\n        \"samples\": [\n          88.0,\n          75.0,\n          10.0\n        ],\n        \"semantic_type\": \"\",\n        \"description\": \"\"\n      }\n    },\n    {\n      \"column\": \"product_height_cm\",\n      \"properties\": {\n        \"dtype\": \"number\",\n        \"std\": 13.637554061749494,\n        \"min\": 2.0,\n        \"max\": 105.0,\n        \"num_unique_values\": 102,\n        \"samples\": [\n          6.0,\n          38.0,\n          54.0\n        ],\n        \"semantic_type\": \"\",\n        \"description\": \"\"\n      }\n    },\n    {\n      \"column\": \"product_width_cm\",\n      \"properties\": {\n        \"dtype\": \"number\",\n        \"std\": 12.079047453227835,\n        \"min\": 6.0,\n        \"max\": 118.0,\n        \"num_unique_values\": 95,\n        \"samples\": [\n          80.0,\n          38.0,\n          9.0\n        ],\n        \"semantic_type\": \"\",\n        \"description\": \"\"\n      }\n    }\n  ]\n}"
            }
          },
          "metadata": {},
          "execution_count": 76
        }
      ]
    },
    {
      "cell_type": "code",
      "source": [
        "#1. Remove duplicate rows:\n",
        "print(\"Original Data\", products.shape)\n",
        "products1=products.drop_duplicates()\n",
        "print(\"Remove duplicate rows:\", products1.shape)\n",
        "\n",
        "#2. Remove duplicates based on specific columns:\n",
        "print(\"Original Data\", products.shape)\n",
        "products2=products.drop_duplicates(subset=['product_category_name'])\n",
        "print(\"Remove duplicates based on specific columns:\", products2.shape)\n",
        "\n",
        "#3. Keep the first occurrence (default behavior):\n",
        "print(\"Original Data\", products.shape)\n",
        "products3=products.drop_duplicates(subset=['product_category_name'],keep='first')\n",
        "print(\"Keep the first occurrence:\", products3.shape)\n",
        "\n",
        "#4. Keep the last occurrence:\n",
        "print(\"Original Data\", products.shape)\n",
        "products4=products.drop_duplicates(subset=['product_category_name'],keep='last')\n",
        "print(\"Keep the last occurrence:\", products4.shape)\n",
        "\n",
        "#5. Remove all duplicates:\n",
        "print(\"Original Data\", products.shape)\n",
        "products5=products.drop_duplicates(subset=['product_category_name',\t'product_name_lenght'],keep=False)\n",
        "print(\"Remove all duplicates:\", products5.shape)\n",
        "\n",
        "#6. Resetting the index after removing duplicates:\n",
        "print(\"Without Resetting Index\", products5.head())\n",
        "products6=products.drop_duplicates(subset=['product_category_name',\t'product_name_lenght'],keep=False)\n",
        "products6.reset_index(drop=True, inplace=True)\n",
        "print(\"After Resetting Index\", products6.head())"
      ],
      "metadata": {
        "colab": {
          "base_uri": "https://localhost:8080/"
        },
        "id": "fUqxjpOhxtB7",
        "outputId": "de1dc3cb-1d66-4e64-f2ec-2bbb42a019a4"
      },
      "execution_count": null,
      "outputs": [
        {
          "output_type": "stream",
          "name": "stdout",
          "text": [
            "Original Data (32951, 9)\n",
            "Remove duplicate rows: (32951, 9)\n",
            "Original Data (32951, 9)\n",
            "Remove duplicates based on specific columns: (74, 9)\n",
            "Original Data (32951, 9)\n",
            "Keep the first occurrence: (74, 9)\n",
            "Original Data (32951, 9)\n",
            "Keep the last occurrence: (74, 9)\n",
            "Original Data (32951, 9)\n",
            "Remove all duplicates: (538, 9)\n",
            "Without Resetting Index                            product_id   product_category_name  \\\n",
            "123  f17b05cc8a7651896df8c30884200e9a            climatizacao   \n",
            "233  aedb7e30007f6051c5b3f97156b0848a                   artes   \n",
            "267  6b75ce117b8fcc75289cb6cbe589de6c          telefonia_fixa   \n",
            "397  8b6a57fbcf171e0a44f97af7af858939  informatica_acessorios   \n",
            "487  1c36a5285f7f3b1ed2637d7c528ce5ff        malas_acessorios   \n",
            "\n",
            "     product_name_lenght  product_description_lenght  product_photos_qty  \\\n",
            "123                 30.0                       547.0                 1.0   \n",
            "233                 32.0                       195.0                 1.0   \n",
            "267                 27.0                      1217.0                 1.0   \n",
            "397                 18.0                       389.0                 2.0   \n",
            "487                 21.0                       769.0                 4.0   \n",
            "\n",
            "     product_weight_g  product_length_cm  product_height_cm  product_width_cm  \n",
            "123            2000.0               32.0               51.0              16.0  \n",
            "233             150.0               25.0                2.0              19.0  \n",
            "267             455.0               36.0               18.0              27.0  \n",
            "397             617.0               17.0               14.0              17.0  \n",
            "487            1600.0               55.0               37.0              30.0  \n",
            "After Resetting Index                          product_id   product_category_name  \\\n",
            "0  f17b05cc8a7651896df8c30884200e9a            climatizacao   \n",
            "1  aedb7e30007f6051c5b3f97156b0848a                   artes   \n",
            "2  6b75ce117b8fcc75289cb6cbe589de6c          telefonia_fixa   \n",
            "3  8b6a57fbcf171e0a44f97af7af858939  informatica_acessorios   \n",
            "4  1c36a5285f7f3b1ed2637d7c528ce5ff        malas_acessorios   \n",
            "\n",
            "   product_name_lenght  product_description_lenght  product_photos_qty  \\\n",
            "0                 30.0                       547.0                 1.0   \n",
            "1                 32.0                       195.0                 1.0   \n",
            "2                 27.0                      1217.0                 1.0   \n",
            "3                 18.0                       389.0                 2.0   \n",
            "4                 21.0                       769.0                 4.0   \n",
            "\n",
            "   product_weight_g  product_length_cm  product_height_cm  product_width_cm  \n",
            "0            2000.0               32.0               51.0              16.0  \n",
            "1             150.0               25.0                2.0              19.0  \n",
            "2             455.0               36.0               18.0              27.0  \n",
            "3             617.0               17.0               14.0              17.0  \n",
            "4            1600.0               55.0               37.0              30.0  \n"
          ]
        }
      ]
    },
    {
      "cell_type": "markdown",
      "source": [
        "# 11.How to Identify Duplicates in Pandas?"
      ],
      "metadata": {
        "id": "yGA0_2E93J6V"
      }
    },
    {
      "cell_type": "code",
      "source": [
        "#use the duplicated() method to identify duplicates in a DataFrame.\n",
        "duplicates=products.duplicated()\n",
        "print(duplicates)\n",
        "print(sum(duplicates))\n",
        "\n",
        "#Duplicates by columns\n",
        "duplicates1=products.duplicated(subset=['product_category_name',\t'product_name_lenght'])\n",
        "print(duplicates1)\n",
        "print(sum(duplicates1))"
      ],
      "metadata": {
        "colab": {
          "base_uri": "https://localhost:8080/"
        },
        "id": "Dn4bJGmZ3ReH",
        "outputId": "13efc803-2846-49bb-9b3a-63a079db0181"
      },
      "execution_count": null,
      "outputs": [
        {
          "output_type": "stream",
          "name": "stdout",
          "text": [
            "0        False\n",
            "1        False\n",
            "2        False\n",
            "3        False\n",
            "4        False\n",
            "         ...  \n",
            "32946    False\n",
            "32947    False\n",
            "32948    False\n",
            "32949    False\n",
            "32950    False\n",
            "Length: 32951, dtype: bool\n",
            "0\n",
            "0        False\n",
            "1        False\n",
            "2        False\n",
            "3        False\n",
            "4        False\n",
            "         ...  \n",
            "32946     True\n",
            "32947     True\n",
            "32948     True\n",
            "32949     True\n",
            "32950     True\n",
            "Length: 32951, dtype: bool\n",
            "30710\n"
          ]
        }
      ]
    },
    {
      "cell_type": "markdown",
      "source": [
        "# 12.What is the apply Method in Pandas?"
      ],
      "metadata": {
        "id": "6ZBaw-554z8e"
      }
    },
    {
      "cell_type": "markdown",
      "source": [
        "The `apply` method in pandas is a powerful tool used to apply a function along an axis of the DataFrame or Series. It can be used to perform operations on rows or columns, depending on the specified axis. Here's an overview of how to use it:\n",
        "\n",
        "### Basic Usage\n",
        "\n",
        "#### For a DataFrame\n",
        "\n",
        "- **Apply function to each column:** This is the default behavior (axis=0).\n",
        "  ```python\n",
        "  df.apply(func)\n",
        "  ```\n",
        "\n",
        "- **Apply function to each row:** Set axis=1.\n",
        "  ```python\n",
        "  df.apply(func, axis=1)\n",
        "  ```\n",
        "\n",
        "#### For a Series\n",
        "\n",
        "- **Apply function to each element:**\n",
        "  ```python\n",
        "  series.apply(func)\n",
        "  ```\n",
        "\n",
        "### Examples\n",
        "\n",
        "1. **Applying a Function to Each Column:**\n",
        "   ```python\n",
        "   import pandas as pd\n",
        "\n",
        "   df = pd.DataFrame({\n",
        "       'A': [1, 2, 3, 4],\n",
        "       'B': [10, 20, 30, 40]\n",
        "   })\n",
        "\n",
        "   def square(x):\n",
        "       return x * x\n",
        "\n",
        "   df = df.apply(square)\n",
        "   print(df)\n",
        "   ```\n",
        "   Output:\n",
        "   ```\n",
        "       A    B\n",
        "   0   1  100\n",
        "   1   4  400\n",
        "   2   9  900\n",
        "   3  16 1600\n",
        "   ```\n",
        "\n",
        "2. **Applying a Function to Each Row:**\n",
        "   ```python\n",
        "   def sum_row(row):\n",
        "       return row.sum()\n",
        "\n",
        "   row_sums = df.apply(sum_row, axis=1)\n",
        "   print(row_sums)\n",
        "   ```\n",
        "   Output:\n",
        "   ```\n",
        "   0    11\n",
        "   1    24\n",
        "   2    39\n",
        "   3    56\n",
        "   dtype: int64\n",
        "   ```\n",
        "\n",
        "3. **Applying a Lambda Function:**\n",
        "   ```python\n",
        "   df = df.apply(lambda x: x + 10)\n",
        "   print(df)\n",
        "   ```\n",
        "   Output:\n",
        "   ```\n",
        "       A   B\n",
        "   0  11 110\n",
        "   1  14 120\n",
        "   2  19 130\n",
        "   3  26 140\n",
        "   ```\n",
        "\n",
        "### Key Points\n",
        "\n",
        "- **Function can be any callable:** The function can be a lambda function, a defined function, or even built-in functions.\n",
        "- **Returning DataFrame or Series:** Depending on the function applied, the result can be a DataFrame, Series, or even a scalar.\n",
        "- **Axis parameter:**\n",
        "  - `axis=0` (default): Apply function to each column.\n",
        "  - `axis=1`: Apply function to each row.\n",
        "\n",
        "The `apply` method is highly versatile and is often used for data transformation, aggregation, and complex calculations on DataFrames and Series."
      ],
      "metadata": {
        "id": "Iw_QW9Ar5bJI"
      }
    },
    {
      "cell_type": "code",
      "source": [
        "#Apply function to find the first five charecters of product_id\n",
        "#Without str\n",
        "#products['product_id_code1'] = products['product_category_name'].apply(lambda x: x[0:5])\n",
        "#print(products.head())\n",
        "\n",
        "#After Trying str\n",
        "products['product_id_code1'] = products['product_category_name'].apply(lambda x: str(x)[0:5])\n",
        "print(products.head())\n"
      ],
      "metadata": {
        "colab": {
          "base_uri": "https://localhost:8080/"
        },
        "id": "3F8_tKKW17Mw",
        "outputId": "3aef615d-6622-4266-bf2e-a51a27898b06"
      },
      "execution_count": null,
      "outputs": [
        {
          "output_type": "stream",
          "name": "stdout",
          "text": [
            "                         product_id  product_category_name  \\\n",
            "0  1e9e8ef04dbcff4541ed26657ea517e5             perfumaria   \n",
            "1  3aa071139cb16b67ca9e5dea641aaa2f                  artes   \n",
            "2  96bd76ec8810374ed1b65e291975717f          esporte_lazer   \n",
            "3  cef67bcfe19066a932b7673e239eb23d                  bebes   \n",
            "4  9dc1a7de274444849c219cff195d0b71  utilidades_domesticas   \n",
            "\n",
            "   product_name_lenght  product_description_lenght  product_photos_qty  \\\n",
            "0                 40.0                       287.0                 1.0   \n",
            "1                 44.0                       276.0                 1.0   \n",
            "2                 46.0                       250.0                 1.0   \n",
            "3                 27.0                       261.0                 1.0   \n",
            "4                 37.0                       402.0                 4.0   \n",
            "\n",
            "   product_weight_g  product_length_cm  product_height_cm  product_width_cm  \\\n",
            "0             225.0               16.0               10.0              14.0   \n",
            "1            1000.0               30.0               18.0              20.0   \n",
            "2             154.0               18.0                9.0              15.0   \n",
            "3             371.0               26.0                4.0              26.0   \n",
            "4             625.0               20.0               17.0              13.0   \n",
            "\n",
            "  product_id_code1  \n",
            "0            perfu  \n",
            "1            artes  \n",
            "2            espor  \n",
            "3            bebes  \n",
            "4            utili  \n"
          ]
        }
      ]
    },
    {
      "cell_type": "markdown",
      "source": [
        "#13 What is the Meaning of axis=0 and axis=1?"
      ],
      "metadata": {
        "id": "bzuqlzC96rZp"
      }
    },
    {
      "cell_type": "markdown",
      "source": [
        "axis=0 refers to operations along the rows (i.e., down the rows).\n",
        "\n",
        "axis=1 refers to operations along the columns (i.e., across the columns)."
      ],
      "metadata": {
        "id": "g8PEOuWI7E9v"
      }
    },
    {
      "cell_type": "code",
      "source": [
        "products.info()"
      ],
      "metadata": {
        "colab": {
          "base_uri": "https://localhost:8080/"
        },
        "id": "jcyGwdVs7utg",
        "outputId": "67684e29-ad39-4247-8b38-8cfca98ba841"
      },
      "execution_count": null,
      "outputs": [
        {
          "output_type": "stream",
          "name": "stdout",
          "text": [
            "<class 'pandas.core.frame.DataFrame'>\n",
            "RangeIndex: 32951 entries, 0 to 32950\n",
            "Data columns (total 10 columns):\n",
            " #   Column                      Non-Null Count  Dtype  \n",
            "---  ------                      --------------  -----  \n",
            " 0   product_id                  32951 non-null  object \n",
            " 1   product_category_name       32341 non-null  object \n",
            " 2   product_name_lenght         32341 non-null  float64\n",
            " 3   product_description_lenght  32341 non-null  float64\n",
            " 4   product_photos_qty          32341 non-null  float64\n",
            " 5   product_weight_g            32949 non-null  float64\n",
            " 6   product_length_cm           32949 non-null  float64\n",
            " 7   product_height_cm           32949 non-null  float64\n",
            " 8   product_width_cm            32949 non-null  float64\n",
            " 9   product_id_code1            32951 non-null  object \n",
            "dtypes: float64(7), object(3)\n",
            "memory usage: 2.5+ MB\n"
          ]
        }
      ]
    },
    {
      "cell_type": "code",
      "source": [
        "#drop rows\n",
        "print(\"Before\",products.shape)\n",
        "products1=products.drop(range(0,10))\n",
        "print(\"After\",products1.shape)\n",
        "\n",
        "#drop columns\n",
        "print(\"Before\",products.shape)\n",
        "products1=products.drop([\"product_length_cm\",\"product_width_cm\"], axis=1)\n",
        "print(\"After\",products1.shape)"
      ],
      "metadata": {
        "colab": {
          "base_uri": "https://localhost:8080/"
        },
        "id": "mmzZ2Rbr17P1",
        "outputId": "3c6897b1-603d-476a-fa1e-c2881653ee91"
      },
      "execution_count": null,
      "outputs": [
        {
          "output_type": "stream",
          "name": "stdout",
          "text": [
            "Before (32951, 10)\n",
            "After (32941, 10)\n",
            "Before (32951, 10)\n",
            "After (32951, 8)\n"
          ]
        }
      ]
    },
    {
      "cell_type": "markdown",
      "source": [
        "# 14.Significance of 0 and 1?"
      ],
      "metadata": {
        "id": "BeLvTcXs7-zw"
      }
    },
    {
      "cell_type": "markdown",
      "source": [
        "Same as above answer\n",
        "\n",
        "0 typically means row-wise operation (downward).\n",
        "\n",
        "1 typically means column-wise operation (across)."
      ],
      "metadata": {
        "id": "qtyxHF0N8Fff"
      }
    },
    {
      "cell_type": "markdown",
      "source": [
        "#15.How to Find Null Values in Pandas?"
      ],
      "metadata": {
        "id": "Q9Y0XswK_32C"
      }
    },
    {
      "cell_type": "markdown",
      "source": [
        "You can use the isnull() method to find null values."
      ],
      "metadata": {
        "id": "OIz-1R62_8SV"
      }
    },
    {
      "cell_type": "code",
      "source": [
        "#olist reviews data\n",
        "!wget https://raw.githubusercontent.com/venkatareddykonasani/Datasets/master/Brazil_Ecom_Data/olist_order_reviews_dataset.csv"
      ],
      "metadata": {
        "colab": {
          "base_uri": "https://localhost:8080/"
        },
        "id": "Zy6bJHh517Ts",
        "outputId": "11347ef3-ea39-4399-ecff-069e1a85011e"
      },
      "execution_count": null,
      "outputs": [
        {
          "output_type": "stream",
          "name": "stdout",
          "text": [
            "--2024-07-07 11:42:21--  https://raw.githubusercontent.com/venkatareddykonasani/Datasets/master/Brazil_Ecom_Data/olist_order_reviews_dataset.csv\n",
            "Resolving raw.githubusercontent.com (raw.githubusercontent.com)... 185.199.108.133, 185.199.109.133, 185.199.110.133, ...\n",
            "Connecting to raw.githubusercontent.com (raw.githubusercontent.com)|185.199.108.133|:443... connected.\n",
            "HTTP request sent, awaiting response... 200 OK\n",
            "Length: 14409007 (14M) [text/plain]\n",
            "Saving to: ‘olist_order_reviews_dataset.csv.3’\n",
            "\n",
            "olist_order_reviews 100%[===================>]  13.74M  --.-KB/s    in 0.08s   \n",
            "\n",
            "2024-07-07 11:42:21 (177 MB/s) - ‘olist_order_reviews_dataset.csv.3’ saved [14409007/14409007]\n",
            "\n"
          ]
        }
      ]
    },
    {
      "cell_type": "code",
      "source": [
        "reviews= pd.read_csv('/content/olist_order_reviews_dataset.csv')\n",
        "print(reviews.shape)\n",
        "reviews.head()"
      ],
      "metadata": {
        "colab": {
          "base_uri": "https://localhost:8080/",
          "height": 278
        },
        "id": "zMbJ7lLb17XB",
        "outputId": "babcd616-69fe-4fd2-b7c9-43e71363f28f"
      },
      "execution_count": null,
      "outputs": [
        {
          "output_type": "stream",
          "name": "stdout",
          "text": [
            "(100000, 7)\n"
          ]
        },
        {
          "output_type": "execute_result",
          "data": {
            "text/plain": [
              "                          review_id                          order_id  \\\n",
              "0  7bc2406110b926393aa56f80a40eba40  73fc7af87114b39712e6da79b0a377eb   \n",
              "1  80e641a11e56f04c1ad469d5645fdfde  a548910a1c6147796b98fdf73dbeba33   \n",
              "2  228ce5500dc1d8e020d8d1322874b6f0  f9e4b658b201a9f2ecdecbb34bed034b   \n",
              "3  e64fb393e7b32834bb789ff8bb30750e  658677c97b385a9be170737859d3511b   \n",
              "4  f7c4243c7fe1938f181bec41a392bdeb  8e6bfb81e283fa7e4f11123a3fb894f1   \n",
              "\n",
              "   review_score review_comment_title  \\\n",
              "0             4                  NaN   \n",
              "1             5                  NaN   \n",
              "2             5                  NaN   \n",
              "3             5                  NaN   \n",
              "4             5                  NaN   \n",
              "\n",
              "                              review_comment_message review_creation_date  \\\n",
              "0                                                NaN  2018-01-18 00:00:00   \n",
              "1                                                NaN  2018-03-10 00:00:00   \n",
              "2                                                NaN  2018-02-17 00:00:00   \n",
              "3              Recebi bem antes do prazo estipulado.  2017-04-21 00:00:00   \n",
              "4  Parabéns lojas lannister adorei comprar pela I...  2018-03-01 00:00:00   \n",
              "\n",
              "  review_answer_timestamp  \n",
              "0     2018-01-18 21:46:59  \n",
              "1     2018-03-11 03:05:13  \n",
              "2     2018-02-18 14:36:24  \n",
              "3     2017-04-21 22:02:06  \n",
              "4     2018-03-02 10:26:53  "
            ],
            "text/html": [
              "\n",
              "  <div id=\"df-fdde7faa-e0b8-46ee-a3b6-9f1e38d5504e\" class=\"colab-df-container\">\n",
              "    <div>\n",
              "<style scoped>\n",
              "    .dataframe tbody tr th:only-of-type {\n",
              "        vertical-align: middle;\n",
              "    }\n",
              "\n",
              "    .dataframe tbody tr th {\n",
              "        vertical-align: top;\n",
              "    }\n",
              "\n",
              "    .dataframe thead th {\n",
              "        text-align: right;\n",
              "    }\n",
              "</style>\n",
              "<table border=\"1\" class=\"dataframe\">\n",
              "  <thead>\n",
              "    <tr style=\"text-align: right;\">\n",
              "      <th></th>\n",
              "      <th>review_id</th>\n",
              "      <th>order_id</th>\n",
              "      <th>review_score</th>\n",
              "      <th>review_comment_title</th>\n",
              "      <th>review_comment_message</th>\n",
              "      <th>review_creation_date</th>\n",
              "      <th>review_answer_timestamp</th>\n",
              "    </tr>\n",
              "  </thead>\n",
              "  <tbody>\n",
              "    <tr>\n",
              "      <th>0</th>\n",
              "      <td>7bc2406110b926393aa56f80a40eba40</td>\n",
              "      <td>73fc7af87114b39712e6da79b0a377eb</td>\n",
              "      <td>4</td>\n",
              "      <td>NaN</td>\n",
              "      <td>NaN</td>\n",
              "      <td>2018-01-18 00:00:00</td>\n",
              "      <td>2018-01-18 21:46:59</td>\n",
              "    </tr>\n",
              "    <tr>\n",
              "      <th>1</th>\n",
              "      <td>80e641a11e56f04c1ad469d5645fdfde</td>\n",
              "      <td>a548910a1c6147796b98fdf73dbeba33</td>\n",
              "      <td>5</td>\n",
              "      <td>NaN</td>\n",
              "      <td>NaN</td>\n",
              "      <td>2018-03-10 00:00:00</td>\n",
              "      <td>2018-03-11 03:05:13</td>\n",
              "    </tr>\n",
              "    <tr>\n",
              "      <th>2</th>\n",
              "      <td>228ce5500dc1d8e020d8d1322874b6f0</td>\n",
              "      <td>f9e4b658b201a9f2ecdecbb34bed034b</td>\n",
              "      <td>5</td>\n",
              "      <td>NaN</td>\n",
              "      <td>NaN</td>\n",
              "      <td>2018-02-17 00:00:00</td>\n",
              "      <td>2018-02-18 14:36:24</td>\n",
              "    </tr>\n",
              "    <tr>\n",
              "      <th>3</th>\n",
              "      <td>e64fb393e7b32834bb789ff8bb30750e</td>\n",
              "      <td>658677c97b385a9be170737859d3511b</td>\n",
              "      <td>5</td>\n",
              "      <td>NaN</td>\n",
              "      <td>Recebi bem antes do prazo estipulado.</td>\n",
              "      <td>2017-04-21 00:00:00</td>\n",
              "      <td>2017-04-21 22:02:06</td>\n",
              "    </tr>\n",
              "    <tr>\n",
              "      <th>4</th>\n",
              "      <td>f7c4243c7fe1938f181bec41a392bdeb</td>\n",
              "      <td>8e6bfb81e283fa7e4f11123a3fb894f1</td>\n",
              "      <td>5</td>\n",
              "      <td>NaN</td>\n",
              "      <td>Parabéns lojas lannister adorei comprar pela I...</td>\n",
              "      <td>2018-03-01 00:00:00</td>\n",
              "      <td>2018-03-02 10:26:53</td>\n",
              "    </tr>\n",
              "  </tbody>\n",
              "</table>\n",
              "</div>\n",
              "    <div class=\"colab-df-buttons\">\n",
              "\n",
              "  <div class=\"colab-df-container\">\n",
              "    <button class=\"colab-df-convert\" onclick=\"convertToInteractive('df-fdde7faa-e0b8-46ee-a3b6-9f1e38d5504e')\"\n",
              "            title=\"Convert this dataframe to an interactive table.\"\n",
              "            style=\"display:none;\">\n",
              "\n",
              "  <svg xmlns=\"http://www.w3.org/2000/svg\" height=\"24px\" viewBox=\"0 -960 960 960\">\n",
              "    <path d=\"M120-120v-720h720v720H120Zm60-500h600v-160H180v160Zm220 220h160v-160H400v160Zm0 220h160v-160H400v160ZM180-400h160v-160H180v160Zm440 0h160v-160H620v160ZM180-180h160v-160H180v160Zm440 0h160v-160H620v160Z\"/>\n",
              "  </svg>\n",
              "    </button>\n",
              "\n",
              "  <style>\n",
              "    .colab-df-container {\n",
              "      display:flex;\n",
              "      gap: 12px;\n",
              "    }\n",
              "\n",
              "    .colab-df-convert {\n",
              "      background-color: #E8F0FE;\n",
              "      border: none;\n",
              "      border-radius: 50%;\n",
              "      cursor: pointer;\n",
              "      display: none;\n",
              "      fill: #1967D2;\n",
              "      height: 32px;\n",
              "      padding: 0 0 0 0;\n",
              "      width: 32px;\n",
              "    }\n",
              "\n",
              "    .colab-df-convert:hover {\n",
              "      background-color: #E2EBFA;\n",
              "      box-shadow: 0px 1px 2px rgba(60, 64, 67, 0.3), 0px 1px 3px 1px rgba(60, 64, 67, 0.15);\n",
              "      fill: #174EA6;\n",
              "    }\n",
              "\n",
              "    .colab-df-buttons div {\n",
              "      margin-bottom: 4px;\n",
              "    }\n",
              "\n",
              "    [theme=dark] .colab-df-convert {\n",
              "      background-color: #3B4455;\n",
              "      fill: #D2E3FC;\n",
              "    }\n",
              "\n",
              "    [theme=dark] .colab-df-convert:hover {\n",
              "      background-color: #434B5C;\n",
              "      box-shadow: 0px 1px 3px 1px rgba(0, 0, 0, 0.15);\n",
              "      filter: drop-shadow(0px 1px 2px rgba(0, 0, 0, 0.3));\n",
              "      fill: #FFFFFF;\n",
              "    }\n",
              "  </style>\n",
              "\n",
              "    <script>\n",
              "      const buttonEl =\n",
              "        document.querySelector('#df-fdde7faa-e0b8-46ee-a3b6-9f1e38d5504e button.colab-df-convert');\n",
              "      buttonEl.style.display =\n",
              "        google.colab.kernel.accessAllowed ? 'block' : 'none';\n",
              "\n",
              "      async function convertToInteractive(key) {\n",
              "        const element = document.querySelector('#df-fdde7faa-e0b8-46ee-a3b6-9f1e38d5504e');\n",
              "        const dataTable =\n",
              "          await google.colab.kernel.invokeFunction('convertToInteractive',\n",
              "                                                    [key], {});\n",
              "        if (!dataTable) return;\n",
              "\n",
              "        const docLinkHtml = 'Like what you see? Visit the ' +\n",
              "          '<a target=\"_blank\" href=https://colab.research.google.com/notebooks/data_table.ipynb>data table notebook</a>'\n",
              "          + ' to learn more about interactive tables.';\n",
              "        element.innerHTML = '';\n",
              "        dataTable['output_type'] = 'display_data';\n",
              "        await google.colab.output.renderOutput(dataTable, element);\n",
              "        const docLink = document.createElement('div');\n",
              "        docLink.innerHTML = docLinkHtml;\n",
              "        element.appendChild(docLink);\n",
              "      }\n",
              "    </script>\n",
              "  </div>\n",
              "\n",
              "\n",
              "<div id=\"df-9c3d1e4a-f9e0-471e-8a81-0d172979d59f\">\n",
              "  <button class=\"colab-df-quickchart\" onclick=\"quickchart('df-9c3d1e4a-f9e0-471e-8a81-0d172979d59f')\"\n",
              "            title=\"Suggest charts\"\n",
              "            style=\"display:none;\">\n",
              "\n",
              "<svg xmlns=\"http://www.w3.org/2000/svg\" height=\"24px\"viewBox=\"0 0 24 24\"\n",
              "     width=\"24px\">\n",
              "    <g>\n",
              "        <path d=\"M19 3H5c-1.1 0-2 .9-2 2v14c0 1.1.9 2 2 2h14c1.1 0 2-.9 2-2V5c0-1.1-.9-2-2-2zM9 17H7v-7h2v7zm4 0h-2V7h2v10zm4 0h-2v-4h2v4z\"/>\n",
              "    </g>\n",
              "</svg>\n",
              "  </button>\n",
              "\n",
              "<style>\n",
              "  .colab-df-quickchart {\n",
              "      --bg-color: #E8F0FE;\n",
              "      --fill-color: #1967D2;\n",
              "      --hover-bg-color: #E2EBFA;\n",
              "      --hover-fill-color: #174EA6;\n",
              "      --disabled-fill-color: #AAA;\n",
              "      --disabled-bg-color: #DDD;\n",
              "  }\n",
              "\n",
              "  [theme=dark] .colab-df-quickchart {\n",
              "      --bg-color: #3B4455;\n",
              "      --fill-color: #D2E3FC;\n",
              "      --hover-bg-color: #434B5C;\n",
              "      --hover-fill-color: #FFFFFF;\n",
              "      --disabled-bg-color: #3B4455;\n",
              "      --disabled-fill-color: #666;\n",
              "  }\n",
              "\n",
              "  .colab-df-quickchart {\n",
              "    background-color: var(--bg-color);\n",
              "    border: none;\n",
              "    border-radius: 50%;\n",
              "    cursor: pointer;\n",
              "    display: none;\n",
              "    fill: var(--fill-color);\n",
              "    height: 32px;\n",
              "    padding: 0;\n",
              "    width: 32px;\n",
              "  }\n",
              "\n",
              "  .colab-df-quickchart:hover {\n",
              "    background-color: var(--hover-bg-color);\n",
              "    box-shadow: 0 1px 2px rgba(60, 64, 67, 0.3), 0 1px 3px 1px rgba(60, 64, 67, 0.15);\n",
              "    fill: var(--button-hover-fill-color);\n",
              "  }\n",
              "\n",
              "  .colab-df-quickchart-complete:disabled,\n",
              "  .colab-df-quickchart-complete:disabled:hover {\n",
              "    background-color: var(--disabled-bg-color);\n",
              "    fill: var(--disabled-fill-color);\n",
              "    box-shadow: none;\n",
              "  }\n",
              "\n",
              "  .colab-df-spinner {\n",
              "    border: 2px solid var(--fill-color);\n",
              "    border-color: transparent;\n",
              "    border-bottom-color: var(--fill-color);\n",
              "    animation:\n",
              "      spin 1s steps(1) infinite;\n",
              "  }\n",
              "\n",
              "  @keyframes spin {\n",
              "    0% {\n",
              "      border-color: transparent;\n",
              "      border-bottom-color: var(--fill-color);\n",
              "      border-left-color: var(--fill-color);\n",
              "    }\n",
              "    20% {\n",
              "      border-color: transparent;\n",
              "      border-left-color: var(--fill-color);\n",
              "      border-top-color: var(--fill-color);\n",
              "    }\n",
              "    30% {\n",
              "      border-color: transparent;\n",
              "      border-left-color: var(--fill-color);\n",
              "      border-top-color: var(--fill-color);\n",
              "      border-right-color: var(--fill-color);\n",
              "    }\n",
              "    40% {\n",
              "      border-color: transparent;\n",
              "      border-right-color: var(--fill-color);\n",
              "      border-top-color: var(--fill-color);\n",
              "    }\n",
              "    60% {\n",
              "      border-color: transparent;\n",
              "      border-right-color: var(--fill-color);\n",
              "    }\n",
              "    80% {\n",
              "      border-color: transparent;\n",
              "      border-right-color: var(--fill-color);\n",
              "      border-bottom-color: var(--fill-color);\n",
              "    }\n",
              "    90% {\n",
              "      border-color: transparent;\n",
              "      border-bottom-color: var(--fill-color);\n",
              "    }\n",
              "  }\n",
              "</style>\n",
              "\n",
              "  <script>\n",
              "    async function quickchart(key) {\n",
              "      const quickchartButtonEl =\n",
              "        document.querySelector('#' + key + ' button');\n",
              "      quickchartButtonEl.disabled = true;  // To prevent multiple clicks.\n",
              "      quickchartButtonEl.classList.add('colab-df-spinner');\n",
              "      try {\n",
              "        const charts = await google.colab.kernel.invokeFunction(\n",
              "            'suggestCharts', [key], {});\n",
              "      } catch (error) {\n",
              "        console.error('Error during call to suggestCharts:', error);\n",
              "      }\n",
              "      quickchartButtonEl.classList.remove('colab-df-spinner');\n",
              "      quickchartButtonEl.classList.add('colab-df-quickchart-complete');\n",
              "    }\n",
              "    (() => {\n",
              "      let quickchartButtonEl =\n",
              "        document.querySelector('#df-9c3d1e4a-f9e0-471e-8a81-0d172979d59f button');\n",
              "      quickchartButtonEl.style.display =\n",
              "        google.colab.kernel.accessAllowed ? 'block' : 'none';\n",
              "    })();\n",
              "  </script>\n",
              "</div>\n",
              "\n",
              "    </div>\n",
              "  </div>\n"
            ],
            "application/vnd.google.colaboratory.intrinsic+json": {
              "type": "dataframe",
              "variable_name": "reviews",
              "summary": "{\n  \"name\": \"reviews\",\n  \"rows\": 100000,\n  \"fields\": [\n    {\n      \"column\": \"review_id\",\n      \"properties\": {\n        \"dtype\": \"string\",\n        \"num_unique_values\": 99173,\n        \"samples\": [\n          \"db4ae7ffb55271fd9be6f0d364d3d959\",\n          \"5e1922a3f61d8447804eb25db1dea715\",\n          \"52bea444c9081ef1805eff00b8aab661\"\n        ],\n        \"semantic_type\": \"\",\n        \"description\": \"\"\n      }\n    },\n    {\n      \"column\": \"order_id\",\n      \"properties\": {\n        \"dtype\": \"string\",\n        \"num_unique_values\": 99441,\n        \"samples\": [\n          \"8f1946021a4dc73534475dba23e2a5fd\",\n          \"e343a798d653d6f5c1f48a4a7ef10337\",\n          \"f29059714a02a0730711137a8a8448b9\"\n        ],\n        \"semantic_type\": \"\",\n        \"description\": \"\"\n      }\n    },\n    {\n      \"column\": \"review_score\",\n      \"properties\": {\n        \"dtype\": \"number\",\n        \"std\": 1,\n        \"min\": 1,\n        \"max\": 5,\n        \"num_unique_values\": 5,\n        \"samples\": [\n          5,\n          2,\n          1\n        ],\n        \"semantic_type\": \"\",\n        \"description\": \"\"\n      }\n    },\n    {\n      \"column\": \"review_comment_title\",\n      \"properties\": {\n        \"dtype\": \"category\",\n        \"num_unique_values\": 4600,\n        \"samples\": [\n          \"Veio faltando um rolo\",\n          \"Recomendo com ressalvas.\",\n          \"Combo n\\u00e3o entregue\"\n        ],\n        \"semantic_type\": \"\",\n        \"description\": \"\"\n      }\n    },\n    {\n      \"column\": \"review_comment_message\",\n      \"properties\": {\n        \"dtype\": \"category\",\n        \"num_unique_values\": 36921,\n        \"samples\": [\n          \"Atendeu super bem todas as expectativas, s\\u00e3o bem afiadas e veio em um estojo preto bem organizado e bonito\",\n          \"prazo excedido em muito.\",\n          \"Bom atendimento de rastreabilidade.\\r\\nPrazo excelente.\"\n        ],\n        \"semantic_type\": \"\",\n        \"description\": \"\"\n      }\n    },\n    {\n      \"column\": \"review_creation_date\",\n      \"properties\": {\n        \"dtype\": \"object\",\n        \"num_unique_values\": 637,\n        \"samples\": [\n          \"2017-01-27 00:00:00\",\n          \"2018-03-04 00:00:00\",\n          \"2018-08-25 00:00:00\"\n        ],\n        \"semantic_type\": \"\",\n        \"description\": \"\"\n      }\n    },\n    {\n      \"column\": \"review_answer_timestamp\",\n      \"properties\": {\n        \"dtype\": \"object\",\n        \"num_unique_values\": 99010,\n        \"samples\": [\n          \"2017-12-12 14:52:47\",\n          \"2017-12-08 21:44:39\",\n          \"2017-12-08 12:14:29\"\n        ],\n        \"semantic_type\": \"\",\n        \"description\": \"\"\n      }\n    }\n  ]\n}"
            }
          },
          "metadata": {},
          "execution_count": 115
        }
      ]
    },
    {
      "cell_type": "code",
      "source": [
        "#Null Values\n",
        "all_nulls= reviews.isnull().sum()\n",
        "print(all_nulls)\n",
        "\n",
        "#Nulls in a column\n",
        "one_col_nulls= reviews['review_comment_message'].isnull().sum()\n",
        "print(one_col_nulls)"
      ],
      "metadata": {
        "colab": {
          "base_uri": "https://localhost:8080/"
        },
        "id": "DLoSTjrGAPjq",
        "outputId": "b97a6d74-be86-47f7-bde9-211a1fe0c8e3"
      },
      "execution_count": null,
      "outputs": [
        {
          "output_type": "stream",
          "name": "stdout",
          "text": [
            "review_id                      0\n",
            "order_id                       0\n",
            "review_score                   0\n",
            "review_comment_title       88285\n",
            "review_comment_message     58247\n",
            "review_creation_date           0\n",
            "review_answer_timestamp        0\n",
            "dtype: int64\n",
            "58247\n"
          ]
        }
      ]
    },
    {
      "cell_type": "markdown",
      "source": [
        "#16.Change Data Type in Column"
      ],
      "metadata": {
        "id": "4wkewcZVAjn0"
      }
    },
    {
      "cell_type": "markdown",
      "source": [
        "You can change the data type of a column using the astype() method."
      ],
      "metadata": {
        "id": "VK7gIlh0AqR0"
      }
    },
    {
      "cell_type": "code",
      "source": [
        "print(reviews.info())"
      ],
      "metadata": {
        "colab": {
          "base_uri": "https://localhost:8080/"
        },
        "id": "7O0fABI0Aprl",
        "outputId": "4e07eac2-166f-481c-d713-174a36039880"
      },
      "execution_count": null,
      "outputs": [
        {
          "output_type": "stream",
          "name": "stdout",
          "text": [
            "<class 'pandas.core.frame.DataFrame'>\n",
            "RangeIndex: 100000 entries, 0 to 99999\n",
            "Data columns (total 7 columns):\n",
            " #   Column                   Non-Null Count   Dtype \n",
            "---  ------                   --------------   ----- \n",
            " 0   review_id                100000 non-null  object\n",
            " 1   order_id                 100000 non-null  object\n",
            " 2   review_score             100000 non-null  int64 \n",
            " 3   review_comment_title     11715 non-null   object\n",
            " 4   review_comment_message   41753 non-null   object\n",
            " 5   review_creation_date     100000 non-null  object\n",
            " 6   review_answer_timestamp  100000 non-null  object\n",
            "dtypes: int64(1), object(6)\n",
            "memory usage: 5.3+ MB\n",
            "None\n"
          ]
        }
      ]
    },
    {
      "cell_type": "code",
      "source": [
        "#astype() category\n",
        "reviews['review_score_string']= reviews['review_score'].astype('category')\n",
        "print(reviews.info())\n",
        "print(reviews.head())"
      ],
      "metadata": {
        "colab": {
          "base_uri": "https://localhost:8080/"
        },
        "id": "yyfAWTfTAUb4",
        "outputId": "710c9084-2309-4a8f-9ded-f448bda90f90"
      },
      "execution_count": null,
      "outputs": [
        {
          "output_type": "stream",
          "name": "stdout",
          "text": [
            "<class 'pandas.core.frame.DataFrame'>\n",
            "RangeIndex: 100000 entries, 0 to 99999\n",
            "Data columns (total 8 columns):\n",
            " #   Column                   Non-Null Count   Dtype   \n",
            "---  ------                   --------------   -----   \n",
            " 0   review_id                100000 non-null  object  \n",
            " 1   order_id                 100000 non-null  object  \n",
            " 2   review_score             100000 non-null  int64   \n",
            " 3   review_comment_title     11715 non-null   object  \n",
            " 4   review_comment_message   41753 non-null   object  \n",
            " 5   review_creation_date     100000 non-null  object  \n",
            " 6   review_answer_timestamp  100000 non-null  object  \n",
            " 7   review_score_string      100000 non-null  category\n",
            "dtypes: category(1), int64(1), object(6)\n",
            "memory usage: 5.4+ MB\n",
            "None\n",
            "                          review_id                          order_id  \\\n",
            "0  7bc2406110b926393aa56f80a40eba40  73fc7af87114b39712e6da79b0a377eb   \n",
            "1  80e641a11e56f04c1ad469d5645fdfde  a548910a1c6147796b98fdf73dbeba33   \n",
            "2  228ce5500dc1d8e020d8d1322874b6f0  f9e4b658b201a9f2ecdecbb34bed034b   \n",
            "3  e64fb393e7b32834bb789ff8bb30750e  658677c97b385a9be170737859d3511b   \n",
            "4  f7c4243c7fe1938f181bec41a392bdeb  8e6bfb81e283fa7e4f11123a3fb894f1   \n",
            "\n",
            "   review_score review_comment_title  \\\n",
            "0             4                  NaN   \n",
            "1             5                  NaN   \n",
            "2             5                  NaN   \n",
            "3             5                  NaN   \n",
            "4             5                  NaN   \n",
            "\n",
            "                              review_comment_message review_creation_date  \\\n",
            "0                                                NaN  2018-01-18 00:00:00   \n",
            "1                                                NaN  2018-03-10 00:00:00   \n",
            "2                                                NaN  2018-02-17 00:00:00   \n",
            "3              Recebi bem antes do prazo estipulado.  2017-04-21 00:00:00   \n",
            "4  Parabéns lojas lannister adorei comprar pela I...  2018-03-01 00:00:00   \n",
            "\n",
            "  review_answer_timestamp review_score_string  \n",
            "0     2018-01-18 21:46:59                   4  \n",
            "1     2018-03-11 03:05:13                   5  \n",
            "2     2018-02-18 14:36:24                   5  \n",
            "3     2017-04-21 22:02:06                   5  \n",
            "4     2018-03-02 10:26:53                   5  \n"
          ]
        }
      ]
    },
    {
      "cell_type": "markdown",
      "source": [
        "#17.Types of Arguments in Python"
      ],
      "metadata": {
        "id": "MAvzpbapDSyF"
      }
    },
    {
      "cell_type": "markdown",
      "source": [
        "Positional arguments\n",
        "\n",
        "Keyword arguments\n",
        "\n",
        "Default arguments\n",
        "\n",
        "Variable-length arguments"
      ],
      "metadata": {
        "id": "SpYLDGWSDW7s"
      }
    },
    {
      "cell_type": "markdown",
      "source": [
        "In Python, function arguments can be categorized into several types based on how they are passed to functions and how they are used. Here are the main types of arguments in Python:\n",
        "\n",
        "1. **Positional Arguments:**\n",
        "   - These are the most common type of arguments. The values are passed to the function in the order they are defined.\n",
        "   ```python\n",
        "   def greet(name, age):\n",
        "       print(f\"Hello, my name is {name} and I am {age} years old.\")\n",
        "\n",
        "   greet('Alice', 30)\n",
        "   ```\n",
        "\n",
        "2. **Keyword Arguments:**\n",
        "   - These arguments are passed to the function by explicitly specifying the name of the parameter.\n",
        "   ```python\n",
        "   greet(age=30, name='Alice')\n",
        "   ```\n",
        "\n",
        "3. **Default Arguments:**\n",
        "   - These are arguments that assume a default value if a value is not provided in the function call.\n",
        "   ```python\n",
        "   def greet(name, age=25):\n",
        "       print(f\"Hello, my name is {name} and I am {age} years old.\")\n",
        "\n",
        "   greet('Alice')  # age will default to 25\n",
        "   greet('Bob', 30)  # age is overridden to 30\n",
        "   ```\n",
        "\n",
        "4. **Variable-Length Arguments:**\n",
        "   - These allow a function to accept an arbitrary number of arguments.\n",
        "\n",
        "   - **Arbitrary Positional Arguments (`*args`):**\n",
        "     - These are used to pass a variable number of positional arguments to a function.\n",
        "     ```python\n",
        "     def greet(*names):\n",
        "         for name in names:\n",
        "             print(f\"Hello, {name}!\")\n",
        "\n",
        "     greet('Alice', 'Bob', 'Charlie')\n",
        "     ```\n",
        "\n",
        " ### Ignore from here\n",
        "\n",
        "   - **Arbitrary Keyword Arguments (`**kwargs`):**\n",
        "     - These are used to pass a variable number of keyword arguments to a function.\n",
        "     ```python\n",
        "     def greet(**info):\n",
        "         for key, value in info.items():\n",
        "             print(f\"{key}: {value}\")\n",
        "\n",
        "     greet(name='Alice', age=30, city='New York')\n",
        "     ```\n",
        "\n",
        "5. **Positional-Only Arguments:**\n",
        "   - These are arguments that can only be passed by position. They are defined using a `/` in the function signature.\n",
        "   ```python\n",
        "   def greet(name, /, age):\n",
        "       print(f\"Hello, my name is {name} and I am {age} years old.\")\n",
        "\n",
        "   greet('Alice', 30)  # Valid\n",
        "   greet(name='Alice', age=30)  # Error\n",
        "   ```\n",
        "\n",
        "6. **Keyword-Only Arguments:**\n",
        "   - These are arguments that can only be passed by keyword. They are defined using a `*` in the function signature.\n",
        "   ```python\n",
        "   def greet(*, name, age):\n",
        "       print(f\"Hello, my name is {name} and I am {age} years old.\")\n",
        "\n",
        "   greet(name='Alice', age=30)  # Valid\n",
        "   greet('Alice', 30)  # Error\n",
        "   ```\n",
        "\n",
        "7. **Combined Positional and Keyword Arguments:**\n",
        "   - You can combine all the above types of arguments in a single function definition.\n",
        "   ```python\n",
        "   def greet(name, /, age, *, city='Unknown'):\n",
        "       print(f\"Hello, my name is {name}, I am {age} years old, and I live in {city}.\")\n",
        "\n",
        "   greet('Alice', 30, city='New York')\n",
        "   ```\n"
      ],
      "metadata": {
        "id": "-asIBWo5DlAJ"
      }
    },
    {
      "cell_type": "code",
      "source": [
        "#1. **Positional Arguments:**\n",
        "def greet(name, age):\n",
        "    print(f\"Hello, my name is {name} and I am {age} years old.\")\n",
        "\n",
        "greet('Alice', 30)\n",
        "greet(30, 'Raju')"
      ],
      "metadata": {
        "colab": {
          "base_uri": "https://localhost:8080/"
        },
        "id": "NrMrp1hxDsa0",
        "outputId": "1ea88eb2-7795-4c02-e319-2c0ce408cf28"
      },
      "execution_count": null,
      "outputs": [
        {
          "output_type": "stream",
          "name": "stdout",
          "text": [
            "Hello, my name is Alice and I am 30 years old.\n",
            "Hello, my name is 30 and I am Raju years old.\n"
          ]
        }
      ]
    },
    {
      "cell_type": "code",
      "source": [
        "#2. **Keyword Arguments:**\n",
        "greet(age=30, name='Alice')"
      ],
      "metadata": {
        "colab": {
          "base_uri": "https://localhost:8080/"
        },
        "id": "ImTyj1a5EIKV",
        "outputId": "7d398b7d-04ee-4549-c0c4-dff1266fc5f7"
      },
      "execution_count": null,
      "outputs": [
        {
          "output_type": "stream",
          "name": "stdout",
          "text": [
            "Hello, my name is Alice and I am 30 years old.\n"
          ]
        }
      ]
    },
    {
      "cell_type": "code",
      "source": [
        "#3. **Default Arguments:**\n",
        "#print(\"Before \", greet('Alice'))#This doesn't work\n",
        "\n",
        "#After\n",
        "def greet(name, age=25):\n",
        "  print(f\"Hello, my name is {name} and I am {age} years old.\")\n",
        "\n",
        "greet('Alice')\n",
        "greet('BOB', 10)"
      ],
      "metadata": {
        "colab": {
          "base_uri": "https://localhost:8080/"
        },
        "id": "YvJoZnt9ESZc",
        "outputId": "7caf38ad-9886-491e-f46d-9a7aafcd2d64"
      },
      "execution_count": null,
      "outputs": [
        {
          "output_type": "stream",
          "name": "stdout",
          "text": [
            "Hello, my name is Alice and I am 25 years old.\n",
            "Hello, my name is BOB and I am 10 years old.\n"
          ]
        }
      ]
    },
    {
      "cell_type": "code",
      "source": [
        "#4.**Variable-Length Arguments:**\n",
        "#- These allow a function to accept an arbitrary number of arguments.\n",
        "\n",
        "def greet(*names):\n",
        "    for name in names:\n",
        "        print(f\"Hello, {name}!\")\n",
        "\n",
        "greet('Alice', 'Bob', 'Charlie')"
      ],
      "metadata": {
        "colab": {
          "base_uri": "https://localhost:8080/"
        },
        "id": "8z671XwxGlcX",
        "outputId": "593adcbb-c440-426f-fa31-76ababa64487"
      },
      "execution_count": null,
      "outputs": [
        {
          "output_type": "stream",
          "name": "stdout",
          "text": [
            "Hello, Alice!\n",
            "Hello, Bob!\n",
            "Hello, Charlie!\n"
          ]
        }
      ]
    },
    {
      "cell_type": "markdown",
      "source": [
        "#18.Replace Null Values in Python"
      ],
      "metadata": {
        "id": "RHy54EYqHrzv"
      }
    },
    {
      "cell_type": "markdown",
      "source": [
        "You can use the fillna() method to replace null values."
      ],
      "metadata": {
        "id": "QEqvMB6qHxQd"
      }
    },
    {
      "cell_type": "code",
      "source": [
        "#Nulls in a column\n",
        "one_col_nulls= reviews['review_comment_message'].isnull().sum()\n",
        "print(one_col_nulls)\n"
      ],
      "metadata": {
        "colab": {
          "base_uri": "https://localhost:8080/"
        },
        "id": "66LXaisCHw1e",
        "outputId": "87c63f2d-b258-4d3f-fb54-1929c0857bb8"
      },
      "execution_count": null,
      "outputs": [
        {
          "output_type": "stream",
          "name": "stdout",
          "text": [
            "58247\n"
          ]
        }
      ]
    },
    {
      "cell_type": "code",
      "source": [
        "reviews[\"review_comment_message\"].fillna(\"No Comment\", inplace=True)\n",
        "one_col_nulls= reviews['review_comment_message'].isnull().sum()\n",
        "print(one_col_nulls)"
      ],
      "metadata": {
        "colab": {
          "base_uri": "https://localhost:8080/"
        },
        "id": "hmlOnODKHu_3",
        "outputId": "aeb8ed83-cc0c-4744-f489-12d8c8b4315b"
      },
      "execution_count": null,
      "outputs": [
        {
          "output_type": "stream",
          "name": "stdout",
          "text": [
            "0\n"
          ]
        }
      ]
    },
    {
      "cell_type": "markdown",
      "source": [
        "# 19 Removing Leading and Trailing Space"
      ],
      "metadata": {
        "id": "5TKvPGuoIC_Q"
      }
    },
    {
      "cell_type": "markdown",
      "source": [
        "You can use the strip() method for strings or str.strip() in pandas."
      ],
      "metadata": {
        "id": "Lb7DvQDhIiIq"
      }
    },
    {
      "cell_type": "code",
      "source": [
        "s = '  Hello, World!  '\n",
        "print(s)\n",
        "print(s.strip())"
      ],
      "metadata": {
        "colab": {
          "base_uri": "https://localhost:8080/"
        },
        "id": "qIqiCO8cIAxS",
        "outputId": "8da15b70-44ff-4f6a-ee5f-fcbab3d10406"
      },
      "execution_count": null,
      "outputs": [
        {
          "output_type": "stream",
          "name": "stdout",
          "text": [
            "  Hello, World!  \n",
            "Hello, World!\n"
          ]
        }
      ]
    },
    {
      "cell_type": "markdown",
      "source": [
        "#20 What is Positive Slicing/Indexing and Negative Slicing/Indexing?"
      ],
      "metadata": {
        "id": "m1WEn3_-IrkX"
      }
    },
    {
      "cell_type": "code",
      "source": [
        "#Positive Slicing/Indexing: Access elements from the beginning to the end of a sequence.\n",
        "lst = [0, 1, 2, 3, 4]\n",
        "print(lst[1:4])"
      ],
      "metadata": {
        "colab": {
          "base_uri": "https://localhost:8080/"
        },
        "id": "7jW_YnREIlwj",
        "outputId": "f745ef18-5804-48ec-dbe4-1b2fbb754553"
      },
      "execution_count": null,
      "outputs": [
        {
          "output_type": "stream",
          "name": "stdout",
          "text": [
            "[1, 2, 3]\n"
          ]
        }
      ]
    },
    {
      "cell_type": "code",
      "source": [
        "#Negative Slicing/Indexing: Access elements from the end towards the beginning of a sequence.\n",
        "print(lst[-1])\n",
        "print(lst[-4:-1])"
      ],
      "metadata": {
        "colab": {
          "base_uri": "https://localhost:8080/"
        },
        "id": "jEj29gy8IwvU",
        "outputId": "afeba0c2-108c-4217-80d1-a114cfb4aa64"
      },
      "execution_count": null,
      "outputs": [
        {
          "output_type": "stream",
          "name": "stdout",
          "text": [
            "4\n",
            "[1, 2, 3]\n"
          ]
        }
      ]
    },
    {
      "cell_type": "markdown",
      "source": [
        "#21 What is iloc and loc?"
      ],
      "metadata": {
        "id": "LjzftxfTI8Oi"
      }
    },
    {
      "cell_type": "code",
      "source": [
        "#iloc: Accesses DataFrame elements by integer-location based indexing.\n",
        "\n",
        "df = pd.DataFrame({'A': [1, 2, 3], 'B': [4, 5, 6]})\n",
        "print(df)\n",
        "print(df.iloc[0, 0])  # Output: 4\n",
        "print(df.iloc[2, 0])  # Output: 4"
      ],
      "metadata": {
        "colab": {
          "base_uri": "https://localhost:8080/"
        },
        "id": "WhqwU1rVI5fD",
        "outputId": "dfdc25f8-9bf6-4d60-be44-d97c4b7ab7ce"
      },
      "execution_count": null,
      "outputs": [
        {
          "output_type": "stream",
          "name": "stdout",
          "text": [
            "   A  B\n",
            "0  1  4\n",
            "1  2  5\n",
            "2  3  6\n",
            "1\n",
            "3\n"
          ]
        }
      ]
    },
    {
      "cell_type": "code",
      "source": [
        "#loc: Accesses DataFrame elements by label-based indexing.\n",
        "df = pd.DataFrame({'A': [1, 2, 3], 'B': [4, 5, 6]})\n",
        "print(df.loc[0, 'B'])  # Output: 4\n",
        "print(df.loc[2, 'A'])"
      ],
      "metadata": {
        "colab": {
          "base_uri": "https://localhost:8080/"
        },
        "id": "VKLs9Fr-JNfM",
        "outputId": "e3f1cbe5-6d08-41ac-f120-38ed7a2b4690"
      },
      "execution_count": null,
      "outputs": [
        {
          "output_type": "stream",
          "name": "stdout",
          "text": [
            "4\n",
            "3\n"
          ]
        }
      ]
    },
    {
      "cell_type": "markdown",
      "source": [
        "#22.How to Remove Leading and Trailing Spaces in Pandas?"
      ],
      "metadata": {
        "id": "cRxVW8SXKFKw"
      }
    },
    {
      "cell_type": "code",
      "source": [
        "#You can use the str.strip() method.\n",
        "df = pd.DataFrame({'A': ['  a', 'b  ', '  c  ']})\n",
        "print(df)\n",
        "df['A'] = df['A'].str.strip()\n",
        "print(df)\n"
      ],
      "metadata": {
        "colab": {
          "base_uri": "https://localhost:8080/"
        },
        "id": "T0LbfxoLJi7c",
        "outputId": "051b4421-d31b-46d7-957f-f702e83b3d6d"
      },
      "execution_count": null,
      "outputs": [
        {
          "output_type": "stream",
          "name": "stdout",
          "text": [
            "       A\n",
            "0      a\n",
            "1    b  \n",
            "2    c  \n",
            "   A\n",
            "0  a\n",
            "1  b\n",
            "2  c\n"
          ]
        }
      ]
    },
    {
      "cell_type": "markdown",
      "source": [
        "# 23.Explain the use of the describe() function in pandas."
      ],
      "metadata": {
        "id": "MwRNdSWoKXSn"
      }
    },
    {
      "cell_type": "code",
      "source": [
        "'''The describe() function provides summary statistics of the\n",
        "DataFrame’s numerical columns.\n",
        " It includes measures like mean, standard deviation, minimum,\n",
        " and maximum values.\n",
        "'''\n",
        "\n",
        "slots.describe()"
      ],
      "metadata": {
        "colab": {
          "base_uri": "https://localhost:8080/",
          "height": 300
        },
        "id": "cLxiAi44KMds",
        "outputId": "88b4ec70-1334-4a19-b71c-89b588fcb100"
      },
      "execution_count": null,
      "outputs": [
        {
          "output_type": "execute_result",
          "data": {
            "text/plain": [
              "            Length  HH Impressions   HH Ratings    Spot Cost  \\\n",
              "count  1764.000000     1211.000000  1211.000000  1742.000000   \n",
              "mean     80.102041      225.033031     0.194377   122.623995   \n",
              "std      28.328172      588.504563     0.508290   338.594250   \n",
              "min      60.000000        0.000000     0.000000     0.000000   \n",
              "25%      60.000000       74.000000     0.060000    20.000000   \n",
              "50%      60.000000      140.000000     0.120000    50.000000   \n",
              "75%     120.000000      234.000000     0.200000   100.000000   \n",
              "max     120.000000    18418.000000    15.910000  5800.000000   \n",
              "\n",
              "       Spot Cost Discounted  \n",
              "count           1764.000000  \n",
              "mean             115.039938  \n",
              "std              319.912732  \n",
              "min                0.000000  \n",
              "25%               19.000000  \n",
              "50%               47.500000  \n",
              "75%               95.000000  \n",
              "max             5510.000000  "
            ],
            "text/html": [
              "\n",
              "  <div id=\"df-95ca4e19-60db-4bf1-992b-11822da6730e\" class=\"colab-df-container\">\n",
              "    <div>\n",
              "<style scoped>\n",
              "    .dataframe tbody tr th:only-of-type {\n",
              "        vertical-align: middle;\n",
              "    }\n",
              "\n",
              "    .dataframe tbody tr th {\n",
              "        vertical-align: top;\n",
              "    }\n",
              "\n",
              "    .dataframe thead th {\n",
              "        text-align: right;\n",
              "    }\n",
              "</style>\n",
              "<table border=\"1\" class=\"dataframe\">\n",
              "  <thead>\n",
              "    <tr style=\"text-align: right;\">\n",
              "      <th></th>\n",
              "      <th>Length</th>\n",
              "      <th>HH Impressions</th>\n",
              "      <th>HH Ratings</th>\n",
              "      <th>Spot Cost</th>\n",
              "      <th>Spot Cost Discounted</th>\n",
              "    </tr>\n",
              "  </thead>\n",
              "  <tbody>\n",
              "    <tr>\n",
              "      <th>count</th>\n",
              "      <td>1764.000000</td>\n",
              "      <td>1211.000000</td>\n",
              "      <td>1211.000000</td>\n",
              "      <td>1742.000000</td>\n",
              "      <td>1764.000000</td>\n",
              "    </tr>\n",
              "    <tr>\n",
              "      <th>mean</th>\n",
              "      <td>80.102041</td>\n",
              "      <td>225.033031</td>\n",
              "      <td>0.194377</td>\n",
              "      <td>122.623995</td>\n",
              "      <td>115.039938</td>\n",
              "    </tr>\n",
              "    <tr>\n",
              "      <th>std</th>\n",
              "      <td>28.328172</td>\n",
              "      <td>588.504563</td>\n",
              "      <td>0.508290</td>\n",
              "      <td>338.594250</td>\n",
              "      <td>319.912732</td>\n",
              "    </tr>\n",
              "    <tr>\n",
              "      <th>min</th>\n",
              "      <td>60.000000</td>\n",
              "      <td>0.000000</td>\n",
              "      <td>0.000000</td>\n",
              "      <td>0.000000</td>\n",
              "      <td>0.000000</td>\n",
              "    </tr>\n",
              "    <tr>\n",
              "      <th>25%</th>\n",
              "      <td>60.000000</td>\n",
              "      <td>74.000000</td>\n",
              "      <td>0.060000</td>\n",
              "      <td>20.000000</td>\n",
              "      <td>19.000000</td>\n",
              "    </tr>\n",
              "    <tr>\n",
              "      <th>50%</th>\n",
              "      <td>60.000000</td>\n",
              "      <td>140.000000</td>\n",
              "      <td>0.120000</td>\n",
              "      <td>50.000000</td>\n",
              "      <td>47.500000</td>\n",
              "    </tr>\n",
              "    <tr>\n",
              "      <th>75%</th>\n",
              "      <td>120.000000</td>\n",
              "      <td>234.000000</td>\n",
              "      <td>0.200000</td>\n",
              "      <td>100.000000</td>\n",
              "      <td>95.000000</td>\n",
              "    </tr>\n",
              "    <tr>\n",
              "      <th>max</th>\n",
              "      <td>120.000000</td>\n",
              "      <td>18418.000000</td>\n",
              "      <td>15.910000</td>\n",
              "      <td>5800.000000</td>\n",
              "      <td>5510.000000</td>\n",
              "    </tr>\n",
              "  </tbody>\n",
              "</table>\n",
              "</div>\n",
              "    <div class=\"colab-df-buttons\">\n",
              "\n",
              "  <div class=\"colab-df-container\">\n",
              "    <button class=\"colab-df-convert\" onclick=\"convertToInteractive('df-95ca4e19-60db-4bf1-992b-11822da6730e')\"\n",
              "            title=\"Convert this dataframe to an interactive table.\"\n",
              "            style=\"display:none;\">\n",
              "\n",
              "  <svg xmlns=\"http://www.w3.org/2000/svg\" height=\"24px\" viewBox=\"0 -960 960 960\">\n",
              "    <path d=\"M120-120v-720h720v720H120Zm60-500h600v-160H180v160Zm220 220h160v-160H400v160Zm0 220h160v-160H400v160ZM180-400h160v-160H180v160Zm440 0h160v-160H620v160ZM180-180h160v-160H180v160Zm440 0h160v-160H620v160Z\"/>\n",
              "  </svg>\n",
              "    </button>\n",
              "\n",
              "  <style>\n",
              "    .colab-df-container {\n",
              "      display:flex;\n",
              "      gap: 12px;\n",
              "    }\n",
              "\n",
              "    .colab-df-convert {\n",
              "      background-color: #E8F0FE;\n",
              "      border: none;\n",
              "      border-radius: 50%;\n",
              "      cursor: pointer;\n",
              "      display: none;\n",
              "      fill: #1967D2;\n",
              "      height: 32px;\n",
              "      padding: 0 0 0 0;\n",
              "      width: 32px;\n",
              "    }\n",
              "\n",
              "    .colab-df-convert:hover {\n",
              "      background-color: #E2EBFA;\n",
              "      box-shadow: 0px 1px 2px rgba(60, 64, 67, 0.3), 0px 1px 3px 1px rgba(60, 64, 67, 0.15);\n",
              "      fill: #174EA6;\n",
              "    }\n",
              "\n",
              "    .colab-df-buttons div {\n",
              "      margin-bottom: 4px;\n",
              "    }\n",
              "\n",
              "    [theme=dark] .colab-df-convert {\n",
              "      background-color: #3B4455;\n",
              "      fill: #D2E3FC;\n",
              "    }\n",
              "\n",
              "    [theme=dark] .colab-df-convert:hover {\n",
              "      background-color: #434B5C;\n",
              "      box-shadow: 0px 1px 3px 1px rgba(0, 0, 0, 0.15);\n",
              "      filter: drop-shadow(0px 1px 2px rgba(0, 0, 0, 0.3));\n",
              "      fill: #FFFFFF;\n",
              "    }\n",
              "  </style>\n",
              "\n",
              "    <script>\n",
              "      const buttonEl =\n",
              "        document.querySelector('#df-95ca4e19-60db-4bf1-992b-11822da6730e button.colab-df-convert');\n",
              "      buttonEl.style.display =\n",
              "        google.colab.kernel.accessAllowed ? 'block' : 'none';\n",
              "\n",
              "      async function convertToInteractive(key) {\n",
              "        const element = document.querySelector('#df-95ca4e19-60db-4bf1-992b-11822da6730e');\n",
              "        const dataTable =\n",
              "          await google.colab.kernel.invokeFunction('convertToInteractive',\n",
              "                                                    [key], {});\n",
              "        if (!dataTable) return;\n",
              "\n",
              "        const docLinkHtml = 'Like what you see? Visit the ' +\n",
              "          '<a target=\"_blank\" href=https://colab.research.google.com/notebooks/data_table.ipynb>data table notebook</a>'\n",
              "          + ' to learn more about interactive tables.';\n",
              "        element.innerHTML = '';\n",
              "        dataTable['output_type'] = 'display_data';\n",
              "        await google.colab.output.renderOutput(dataTable, element);\n",
              "        const docLink = document.createElement('div');\n",
              "        docLink.innerHTML = docLinkHtml;\n",
              "        element.appendChild(docLink);\n",
              "      }\n",
              "    </script>\n",
              "  </div>\n",
              "\n",
              "\n",
              "<div id=\"df-11163682-8503-4bda-9ec4-81ea2b712022\">\n",
              "  <button class=\"colab-df-quickchart\" onclick=\"quickchart('df-11163682-8503-4bda-9ec4-81ea2b712022')\"\n",
              "            title=\"Suggest charts\"\n",
              "            style=\"display:none;\">\n",
              "\n",
              "<svg xmlns=\"http://www.w3.org/2000/svg\" height=\"24px\"viewBox=\"0 0 24 24\"\n",
              "     width=\"24px\">\n",
              "    <g>\n",
              "        <path d=\"M19 3H5c-1.1 0-2 .9-2 2v14c0 1.1.9 2 2 2h14c1.1 0 2-.9 2-2V5c0-1.1-.9-2-2-2zM9 17H7v-7h2v7zm4 0h-2V7h2v10zm4 0h-2v-4h2v4z\"/>\n",
              "    </g>\n",
              "</svg>\n",
              "  </button>\n",
              "\n",
              "<style>\n",
              "  .colab-df-quickchart {\n",
              "      --bg-color: #E8F0FE;\n",
              "      --fill-color: #1967D2;\n",
              "      --hover-bg-color: #E2EBFA;\n",
              "      --hover-fill-color: #174EA6;\n",
              "      --disabled-fill-color: #AAA;\n",
              "      --disabled-bg-color: #DDD;\n",
              "  }\n",
              "\n",
              "  [theme=dark] .colab-df-quickchart {\n",
              "      --bg-color: #3B4455;\n",
              "      --fill-color: #D2E3FC;\n",
              "      --hover-bg-color: #434B5C;\n",
              "      --hover-fill-color: #FFFFFF;\n",
              "      --disabled-bg-color: #3B4455;\n",
              "      --disabled-fill-color: #666;\n",
              "  }\n",
              "\n",
              "  .colab-df-quickchart {\n",
              "    background-color: var(--bg-color);\n",
              "    border: none;\n",
              "    border-radius: 50%;\n",
              "    cursor: pointer;\n",
              "    display: none;\n",
              "    fill: var(--fill-color);\n",
              "    height: 32px;\n",
              "    padding: 0;\n",
              "    width: 32px;\n",
              "  }\n",
              "\n",
              "  .colab-df-quickchart:hover {\n",
              "    background-color: var(--hover-bg-color);\n",
              "    box-shadow: 0 1px 2px rgba(60, 64, 67, 0.3), 0 1px 3px 1px rgba(60, 64, 67, 0.15);\n",
              "    fill: var(--button-hover-fill-color);\n",
              "  }\n",
              "\n",
              "  .colab-df-quickchart-complete:disabled,\n",
              "  .colab-df-quickchart-complete:disabled:hover {\n",
              "    background-color: var(--disabled-bg-color);\n",
              "    fill: var(--disabled-fill-color);\n",
              "    box-shadow: none;\n",
              "  }\n",
              "\n",
              "  .colab-df-spinner {\n",
              "    border: 2px solid var(--fill-color);\n",
              "    border-color: transparent;\n",
              "    border-bottom-color: var(--fill-color);\n",
              "    animation:\n",
              "      spin 1s steps(1) infinite;\n",
              "  }\n",
              "\n",
              "  @keyframes spin {\n",
              "    0% {\n",
              "      border-color: transparent;\n",
              "      border-bottom-color: var(--fill-color);\n",
              "      border-left-color: var(--fill-color);\n",
              "    }\n",
              "    20% {\n",
              "      border-color: transparent;\n",
              "      border-left-color: var(--fill-color);\n",
              "      border-top-color: var(--fill-color);\n",
              "    }\n",
              "    30% {\n",
              "      border-color: transparent;\n",
              "      border-left-color: var(--fill-color);\n",
              "      border-top-color: var(--fill-color);\n",
              "      border-right-color: var(--fill-color);\n",
              "    }\n",
              "    40% {\n",
              "      border-color: transparent;\n",
              "      border-right-color: var(--fill-color);\n",
              "      border-top-color: var(--fill-color);\n",
              "    }\n",
              "    60% {\n",
              "      border-color: transparent;\n",
              "      border-right-color: var(--fill-color);\n",
              "    }\n",
              "    80% {\n",
              "      border-color: transparent;\n",
              "      border-right-color: var(--fill-color);\n",
              "      border-bottom-color: var(--fill-color);\n",
              "    }\n",
              "    90% {\n",
              "      border-color: transparent;\n",
              "      border-bottom-color: var(--fill-color);\n",
              "    }\n",
              "  }\n",
              "</style>\n",
              "\n",
              "  <script>\n",
              "    async function quickchart(key) {\n",
              "      const quickchartButtonEl =\n",
              "        document.querySelector('#' + key + ' button');\n",
              "      quickchartButtonEl.disabled = true;  // To prevent multiple clicks.\n",
              "      quickchartButtonEl.classList.add('colab-df-spinner');\n",
              "      try {\n",
              "        const charts = await google.colab.kernel.invokeFunction(\n",
              "            'suggestCharts', [key], {});\n",
              "      } catch (error) {\n",
              "        console.error('Error during call to suggestCharts:', error);\n",
              "      }\n",
              "      quickchartButtonEl.classList.remove('colab-df-spinner');\n",
              "      quickchartButtonEl.classList.add('colab-df-quickchart-complete');\n",
              "    }\n",
              "    (() => {\n",
              "      let quickchartButtonEl =\n",
              "        document.querySelector('#df-11163682-8503-4bda-9ec4-81ea2b712022 button');\n",
              "      quickchartButtonEl.style.display =\n",
              "        google.colab.kernel.accessAllowed ? 'block' : 'none';\n",
              "    })();\n",
              "  </script>\n",
              "</div>\n",
              "\n",
              "    </div>\n",
              "  </div>\n"
            ],
            "application/vnd.google.colaboratory.intrinsic+json": {
              "type": "dataframe",
              "summary": "{\n  \"name\": \"slots\",\n  \"rows\": 8,\n  \"fields\": [\n    {\n      \"column\": \"Length\",\n      \"properties\": {\n        \"dtype\": \"number\",\n        \"std\": 597.8067398181068,\n        \"min\": 28.328171978676394,\n        \"max\": 1764.0,\n        \"num_unique_values\": 5,\n        \"samples\": [\n          80.10204081632654,\n          120.0,\n          28.328171978676394\n        ],\n        \"semantic_type\": \"\",\n        \"description\": \"\"\n      }\n    },\n    {\n      \"column\": \"HH Impressions\",\n      \"properties\": {\n        \"dtype\": \"number\",\n        \"std\": 6398.819471121253,\n        \"min\": 0.0,\n        \"max\": 18418.0,\n        \"num_unique_values\": 8,\n        \"samples\": [\n          225.03303055326177,\n          140.0,\n          1211.0\n        ],\n        \"semantic_type\": \"\",\n        \"description\": \"\"\n      }\n    },\n    {\n      \"column\": \"HH Ratings\",\n      \"properties\": {\n        \"dtype\": \"number\",\n        \"std\": 427.33037296633285,\n        \"min\": 0.0,\n        \"max\": 1211.0,\n        \"num_unique_values\": 8,\n        \"samples\": [\n          0.19437654830718415,\n          0.12,\n          1211.0\n        ],\n        \"semantic_type\": \"\",\n        \"description\": \"\"\n      }\n    },\n    {\n      \"column\": \"Spot Cost\",\n      \"properties\": {\n        \"dtype\": \"number\",\n        \"std\": 2016.608172508174,\n        \"min\": 0.0,\n        \"max\": 5800.0,\n        \"num_unique_values\": 8,\n        \"samples\": [\n          122.6239954075775,\n          50.0,\n          1742.0\n        ],\n        \"semantic_type\": \"\",\n        \"description\": \"\"\n      }\n    },\n    {\n      \"column\": \"Spot Cost Discounted\",\n      \"properties\": {\n        \"dtype\": \"number\",\n        \"std\": 1921.9043175496618,\n        \"min\": 0.0,\n        \"max\": 5510.0,\n        \"num_unique_values\": 8,\n        \"samples\": [\n          115.03993764172337,\n          47.5,\n          1764.0\n        ],\n        \"semantic_type\": \"\",\n        \"description\": \"\"\n      }\n    }\n  ]\n}"
            }
          },
          "metadata": {},
          "execution_count": 149
        }
      ]
    },
    {
      "cell_type": "code",
      "source": [],
      "metadata": {
        "id": "LQqoC-JlK9xl"
      },
      "execution_count": null,
      "outputs": []
    }
  ]
}